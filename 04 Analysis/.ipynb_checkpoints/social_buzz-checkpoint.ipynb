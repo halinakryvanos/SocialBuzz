{
 "cells": [
  {
   "cell_type": "markdown",
   "id": "638e2bd8",
   "metadata": {},
   "source": [
    "## This script contains the following:\n",
    "\n",
    "1. Uploading libraries and the datasets\n",
    "\n",
    "2. Data check\n",
    "\n",
    "3. Data Preprocessing\n",
    "\n",
    "3a. Data cleaning for df_content\n",
    "\n",
    "3b. Data cleaning for df_reactions\n",
    "\n",
    "3c. Data cleaning for df_reaction_type\n",
    "\n",
    "4. Create a final data set by merging three tables together\n",
    "\n",
    "5. Figure out the Top 5 performing categories\n",
    "\n",
    "6. Descriptive Analysis\n",
    "\n",
    "7. Content Analysis\n",
    "\n",
    "8. Reaction Type Analysis\n",
    "\n",
    "9. Temporal Analysis:(Weekly and Monthly bases)\n",
    "\n",
    "10. Sentiment Analysis\n",
    "\n",
    "11. Visualization of the Top 5 Categories\n",
    "\n",
    "12. Exporting dataframes\n",
    "\n",
    "13. Conclusions\n",
    "\n",
    "14. Recommendations\n",
    "\n",
    "\n",
    "\n",
    "\n",
    "\n",
    "\n",
    "\n",
    "\n"
   ]
  },
  {
   "cell_type": "markdown",
   "id": "0a6c78ee",
   "metadata": {},
   "source": [
    "### 1. Uploading libraries and the datasets"
   ]
  },
  {
   "cell_type": "code",
   "execution_count": 1,
   "id": "fc0313bc",
   "metadata": {
    "ExecuteTime": {
     "end_time": "2023-10-30T13:56:10.514722Z",
     "start_time": "2023-10-30T13:56:06.486605Z"
    }
   },
   "outputs": [],
   "source": [
    "import quandl\n",
    "import pandas as pd\n",
    "import numpy as np\n",
    "import seaborn as sns\n",
    "import matplotlib\n",
    "import matplotlib.pyplot as plt\n",
    "import matplotlib.dates as mdates  # Add this import statement for mdates\n",
    "import statsmodels.api as sm # Using .api imports the public access version of statsmodels, which is a library that handles \n",
    "# statistical models.\n",
    "import os\n",
    "import warnings # This is a library that handles warnings.\n",
    "\n",
    "warnings.filterwarnings(\"ignore\") # Disable deprecation warnings that could indicate, for instance, a suspended library or \n",
    "# feature. These are more relevant to developers and very seldom to analysts.\n",
    "\n",
    "plt.style.use('fivethirtyeight') # This is a styling option for how your plots will appear. More examples here:\n",
    "# https://matplotlib.org/3.2.1/tutorials/introductory/customizing.html\n",
    "# https://matplotlib.org/3.1.0/gallery/style_sheets/fivethirtyeight.html"
   ]
  },
  {
   "cell_type": "code",
   "execution_count": 2,
   "id": "62d8c60e",
   "metadata": {
    "ExecuteTime": {
     "end_time": "2023-10-30T13:56:10.525999Z",
     "start_time": "2023-10-30T13:56:10.520117Z"
    }
   },
   "outputs": [],
   "source": [
    "# Define path\n",
    "\n",
    "path = '/Users/macbook/Library/CloudStorage/OneDrive-Personal/Data Analisys/Social Buzz'"
   ]
  },
  {
   "cell_type": "code",
   "execution_count": 3,
   "id": "87199eb1",
   "metadata": {
    "ExecuteTime": {
     "end_time": "2023-10-30T13:56:10.541152Z",
     "start_time": "2023-10-30T13:56:10.528966Z"
    },
    "scrolled": true
   },
   "outputs": [],
   "source": [
    "df_content = pd.read_csv(os.path.join(path,'02 Data', 'Raw Data', 'Content.csv'))"
   ]
  },
  {
   "cell_type": "code",
   "execution_count": 4,
   "id": "b64b901f",
   "metadata": {
    "ExecuteTime": {
     "end_time": "2023-10-30T13:56:10.586728Z",
     "start_time": "2023-10-30T13:56:10.544934Z"
    }
   },
   "outputs": [],
   "source": [
    "df_reactions = pd.read_csv(os.path.join(path,'02 Data', 'Raw Data', 'Reactions.csv'))"
   ]
  },
  {
   "cell_type": "code",
   "execution_count": 5,
   "id": "b2a6f105",
   "metadata": {
    "ExecuteTime": {
     "end_time": "2023-10-30T13:56:10.594511Z",
     "start_time": "2023-10-30T13:56:10.588814Z"
    }
   },
   "outputs": [],
   "source": [
    "df_reaction_type = pd.read_csv(os.path.join(path,'02 Data', 'Raw Data', 'ReactionTypes.csv'))"
   ]
  },
  {
   "cell_type": "markdown",
   "id": "c5202fcc",
   "metadata": {},
   "source": [
    "### 2. Data check "
   ]
  },
  {
   "cell_type": "code",
   "execution_count": 6,
   "id": "05d8c5ad",
   "metadata": {
    "ExecuteTime": {
     "end_time": "2023-10-30T13:56:10.610179Z",
     "start_time": "2023-10-30T13:56:10.596376Z"
    }
   },
   "outputs": [
    {
     "data": {
      "text/html": [
       "<div>\n",
       "<style scoped>\n",
       "    .dataframe tbody tr th:only-of-type {\n",
       "        vertical-align: middle;\n",
       "    }\n",
       "\n",
       "    .dataframe tbody tr th {\n",
       "        vertical-align: top;\n",
       "    }\n",
       "\n",
       "    .dataframe thead th {\n",
       "        text-align: right;\n",
       "    }\n",
       "</style>\n",
       "<table border=\"1\" class=\"dataframe\">\n",
       "  <thead>\n",
       "    <tr style=\"text-align: right;\">\n",
       "      <th></th>\n",
       "      <th>Unnamed: 0</th>\n",
       "      <th>Content ID</th>\n",
       "      <th>User ID</th>\n",
       "      <th>Type</th>\n",
       "      <th>Category</th>\n",
       "      <th>URL</th>\n",
       "    </tr>\n",
       "  </thead>\n",
       "  <tbody>\n",
       "    <tr>\n",
       "      <th>0</th>\n",
       "      <td>0</td>\n",
       "      <td>97522e57-d9ab-4bd6-97bf-c24d952602d2</td>\n",
       "      <td>8d3cd87d-8a31-4935-9a4f-b319bfe05f31</td>\n",
       "      <td>photo</td>\n",
       "      <td>Studying</td>\n",
       "      <td>https://socialbuzz.cdn.com/content/storage/975...</td>\n",
       "    </tr>\n",
       "    <tr>\n",
       "      <th>1</th>\n",
       "      <td>1</td>\n",
       "      <td>9f737e0a-3cdd-4d29-9d24-753f4e3be810</td>\n",
       "      <td>beb1f34e-7870-46d6-9fc7-2e12eb83ce43</td>\n",
       "      <td>photo</td>\n",
       "      <td>healthy eating</td>\n",
       "      <td>https://socialbuzz.cdn.com/content/storage/9f7...</td>\n",
       "    </tr>\n",
       "    <tr>\n",
       "      <th>2</th>\n",
       "      <td>2</td>\n",
       "      <td>230c4e4d-70c3-461d-b42c-ec09396efb3f</td>\n",
       "      <td>a5c65404-5894-4b87-82f2-d787cbee86b4</td>\n",
       "      <td>photo</td>\n",
       "      <td>healthy eating</td>\n",
       "      <td>https://socialbuzz.cdn.com/content/storage/230...</td>\n",
       "    </tr>\n",
       "    <tr>\n",
       "      <th>3</th>\n",
       "      <td>3</td>\n",
       "      <td>356fff80-da4d-4785-9f43-bc1261031dc6</td>\n",
       "      <td>9fb4ce88-fac1-406c-8544-1a899cee7aaf</td>\n",
       "      <td>photo</td>\n",
       "      <td>technology</td>\n",
       "      <td>https://socialbuzz.cdn.com/content/storage/356...</td>\n",
       "    </tr>\n",
       "    <tr>\n",
       "      <th>4</th>\n",
       "      <td>4</td>\n",
       "      <td>01ab84dd-6364-4236-abbb-3f237db77180</td>\n",
       "      <td>e206e31b-5f85-4964-b6ea-d7ee5324def1</td>\n",
       "      <td>video</td>\n",
       "      <td>food</td>\n",
       "      <td>https://socialbuzz.cdn.com/content/storage/01a...</td>\n",
       "    </tr>\n",
       "    <tr>\n",
       "      <th>5</th>\n",
       "      <td>5</td>\n",
       "      <td>cf1e8c1a-23eb-4426-9f58-002fb1b53e91</td>\n",
       "      <td>4607d7b0-3313-49b8-9f73-5b8227fc5b67</td>\n",
       "      <td>GIF</td>\n",
       "      <td>cooking</td>\n",
       "      <td>NaN</td>\n",
       "    </tr>\n",
       "    <tr>\n",
       "      <th>6</th>\n",
       "      <td>6</td>\n",
       "      <td>3f8590c7-6ab2-4973-805a-90cdec355f05</td>\n",
       "      <td>ae600af5-c1f0-4b1f-adb0-1b4c246373e4</td>\n",
       "      <td>video</td>\n",
       "      <td>dogs</td>\n",
       "      <td>https://socialbuzz.cdn.com/content/storage/3f8...</td>\n",
       "    </tr>\n",
       "    <tr>\n",
       "      <th>7</th>\n",
       "      <td>7</td>\n",
       "      <td>e5490118-90d5-4572-ab1c-1fbc87b8d9ca</td>\n",
       "      <td>583f2bde-886d-4cf3-a5c4-7cb60cd25df3</td>\n",
       "      <td>video</td>\n",
       "      <td>technology</td>\n",
       "      <td>https://socialbuzz.cdn.com/content/storage/e54...</td>\n",
       "    </tr>\n",
       "    <tr>\n",
       "      <th>8</th>\n",
       "      <td>8</td>\n",
       "      <td>0bedca96-fb76-4287-a83c-17330ed39cce</td>\n",
       "      <td>2bd9c167-e06c-47c1-a978-3403d6724606</td>\n",
       "      <td>photo</td>\n",
       "      <td>soccer</td>\n",
       "      <td>https://socialbuzz.cdn.com/content/storage/0be...</td>\n",
       "    </tr>\n",
       "    <tr>\n",
       "      <th>9</th>\n",
       "      <td>9</td>\n",
       "      <td>b18cb63f-4c8e-44ee-a47f-541e95191d11</td>\n",
       "      <td>13f0db8a-152a-496f-a6e8-1ed6a90b8788</td>\n",
       "      <td>photo</td>\n",
       "      <td>public speaking</td>\n",
       "      <td>https://socialbuzz.cdn.com/content/storage/b18...</td>\n",
       "    </tr>\n",
       "  </tbody>\n",
       "</table>\n",
       "</div>"
      ],
      "text/plain": [
       "   Unnamed: 0                            Content ID  \\\n",
       "0           0  97522e57-d9ab-4bd6-97bf-c24d952602d2   \n",
       "1           1  9f737e0a-3cdd-4d29-9d24-753f4e3be810   \n",
       "2           2  230c4e4d-70c3-461d-b42c-ec09396efb3f   \n",
       "3           3  356fff80-da4d-4785-9f43-bc1261031dc6   \n",
       "4           4  01ab84dd-6364-4236-abbb-3f237db77180   \n",
       "5           5  cf1e8c1a-23eb-4426-9f58-002fb1b53e91   \n",
       "6           6  3f8590c7-6ab2-4973-805a-90cdec355f05   \n",
       "7           7  e5490118-90d5-4572-ab1c-1fbc87b8d9ca   \n",
       "8           8  0bedca96-fb76-4287-a83c-17330ed39cce   \n",
       "9           9  b18cb63f-4c8e-44ee-a47f-541e95191d11   \n",
       "\n",
       "                                User ID   Type         Category  \\\n",
       "0  8d3cd87d-8a31-4935-9a4f-b319bfe05f31  photo         Studying   \n",
       "1  beb1f34e-7870-46d6-9fc7-2e12eb83ce43  photo   healthy eating   \n",
       "2  a5c65404-5894-4b87-82f2-d787cbee86b4  photo   healthy eating   \n",
       "3  9fb4ce88-fac1-406c-8544-1a899cee7aaf  photo       technology   \n",
       "4  e206e31b-5f85-4964-b6ea-d7ee5324def1  video             food   \n",
       "5  4607d7b0-3313-49b8-9f73-5b8227fc5b67    GIF          cooking   \n",
       "6  ae600af5-c1f0-4b1f-adb0-1b4c246373e4  video             dogs   \n",
       "7  583f2bde-886d-4cf3-a5c4-7cb60cd25df3  video       technology   \n",
       "8  2bd9c167-e06c-47c1-a978-3403d6724606  photo           soccer   \n",
       "9  13f0db8a-152a-496f-a6e8-1ed6a90b8788  photo  public speaking   \n",
       "\n",
       "                                                 URL  \n",
       "0  https://socialbuzz.cdn.com/content/storage/975...  \n",
       "1  https://socialbuzz.cdn.com/content/storage/9f7...  \n",
       "2  https://socialbuzz.cdn.com/content/storage/230...  \n",
       "3  https://socialbuzz.cdn.com/content/storage/356...  \n",
       "4  https://socialbuzz.cdn.com/content/storage/01a...  \n",
       "5                                                NaN  \n",
       "6  https://socialbuzz.cdn.com/content/storage/3f8...  \n",
       "7  https://socialbuzz.cdn.com/content/storage/e54...  \n",
       "8  https://socialbuzz.cdn.com/content/storage/0be...  \n",
       "9  https://socialbuzz.cdn.com/content/storage/b18...  "
      ]
     },
     "execution_count": 6,
     "metadata": {},
     "output_type": "execute_result"
    }
   ],
   "source": [
    "df_content.head(10)"
   ]
  },
  {
   "cell_type": "code",
   "execution_count": 7,
   "id": "a270b047",
   "metadata": {
    "ExecuteTime": {
     "end_time": "2023-10-30T13:56:10.620749Z",
     "start_time": "2023-10-30T13:56:10.612276Z"
    }
   },
   "outputs": [
    {
     "data": {
      "text/html": [
       "<div>\n",
       "<style scoped>\n",
       "    .dataframe tbody tr th:only-of-type {\n",
       "        vertical-align: middle;\n",
       "    }\n",
       "\n",
       "    .dataframe tbody tr th {\n",
       "        vertical-align: top;\n",
       "    }\n",
       "\n",
       "    .dataframe thead th {\n",
       "        text-align: right;\n",
       "    }\n",
       "</style>\n",
       "<table border=\"1\" class=\"dataframe\">\n",
       "  <thead>\n",
       "    <tr style=\"text-align: right;\">\n",
       "      <th></th>\n",
       "      <th>Unnamed: 0</th>\n",
       "      <th>Content ID</th>\n",
       "      <th>User ID</th>\n",
       "      <th>Type</th>\n",
       "      <th>Datetime</th>\n",
       "    </tr>\n",
       "  </thead>\n",
       "  <tbody>\n",
       "    <tr>\n",
       "      <th>0</th>\n",
       "      <td>0</td>\n",
       "      <td>97522e57-d9ab-4bd6-97bf-c24d952602d2</td>\n",
       "      <td>NaN</td>\n",
       "      <td>NaN</td>\n",
       "      <td>2021-04-22 15:17:15</td>\n",
       "    </tr>\n",
       "    <tr>\n",
       "      <th>1</th>\n",
       "      <td>1</td>\n",
       "      <td>97522e57-d9ab-4bd6-97bf-c24d952602d2</td>\n",
       "      <td>5d454588-283d-459d-915d-c48a2cb4c27f</td>\n",
       "      <td>disgust</td>\n",
       "      <td>2020-11-07 09:43:50</td>\n",
       "    </tr>\n",
       "    <tr>\n",
       "      <th>2</th>\n",
       "      <td>2</td>\n",
       "      <td>97522e57-d9ab-4bd6-97bf-c24d952602d2</td>\n",
       "      <td>92b87fa5-f271-43e0-af66-84fac21052e6</td>\n",
       "      <td>dislike</td>\n",
       "      <td>2021-06-17 12:22:51</td>\n",
       "    </tr>\n",
       "    <tr>\n",
       "      <th>3</th>\n",
       "      <td>3</td>\n",
       "      <td>97522e57-d9ab-4bd6-97bf-c24d952602d2</td>\n",
       "      <td>163daa38-8b77-48c9-9af6-37a6c1447ac2</td>\n",
       "      <td>scared</td>\n",
       "      <td>2021-04-18 05:13:58</td>\n",
       "    </tr>\n",
       "    <tr>\n",
       "      <th>4</th>\n",
       "      <td>4</td>\n",
       "      <td>97522e57-d9ab-4bd6-97bf-c24d952602d2</td>\n",
       "      <td>34e8add9-0206-47fd-a501-037b994650a2</td>\n",
       "      <td>disgust</td>\n",
       "      <td>2021-01-06 19:13:01</td>\n",
       "    </tr>\n",
       "    <tr>\n",
       "      <th>5</th>\n",
       "      <td>5</td>\n",
       "      <td>97522e57-d9ab-4bd6-97bf-c24d952602d2</td>\n",
       "      <td>9b6d35f9-5e15-4cd0-a8d7-b1f3340e02c4</td>\n",
       "      <td>interested</td>\n",
       "      <td>2020-08-23 12:25:58</td>\n",
       "    </tr>\n",
       "    <tr>\n",
       "      <th>6</th>\n",
       "      <td>6</td>\n",
       "      <td>97522e57-d9ab-4bd6-97bf-c24d952602d2</td>\n",
       "      <td>7918d465-0953-4f20-9e28-539e74c82e2f</td>\n",
       "      <td>peeking</td>\n",
       "      <td>2020-12-07 06:27:54</td>\n",
       "    </tr>\n",
       "    <tr>\n",
       "      <th>7</th>\n",
       "      <td>7</td>\n",
       "      <td>97522e57-d9ab-4bd6-97bf-c24d952602d2</td>\n",
       "      <td>fa3e42f0-71d8-455f-b024-e52d5c27a145</td>\n",
       "      <td>cherish</td>\n",
       "      <td>2021-04-11 17:35:49</td>\n",
       "    </tr>\n",
       "    <tr>\n",
       "      <th>8</th>\n",
       "      <td>8</td>\n",
       "      <td>97522e57-d9ab-4bd6-97bf-c24d952602d2</td>\n",
       "      <td>b0c22f82-b882-4394-bf27-6dfadf26e5c2</td>\n",
       "      <td>hate</td>\n",
       "      <td>2021-01-27 08:32:09</td>\n",
       "    </tr>\n",
       "    <tr>\n",
       "      <th>9</th>\n",
       "      <td>9</td>\n",
       "      <td>97522e57-d9ab-4bd6-97bf-c24d952602d2</td>\n",
       "      <td>1932a904-86ba-4438-bb52-b7e6516a4019</td>\n",
       "      <td>peeking</td>\n",
       "      <td>2021-04-01 22:54:23</td>\n",
       "    </tr>\n",
       "  </tbody>\n",
       "</table>\n",
       "</div>"
      ],
      "text/plain": [
       "   Unnamed: 0                            Content ID  \\\n",
       "0           0  97522e57-d9ab-4bd6-97bf-c24d952602d2   \n",
       "1           1  97522e57-d9ab-4bd6-97bf-c24d952602d2   \n",
       "2           2  97522e57-d9ab-4bd6-97bf-c24d952602d2   \n",
       "3           3  97522e57-d9ab-4bd6-97bf-c24d952602d2   \n",
       "4           4  97522e57-d9ab-4bd6-97bf-c24d952602d2   \n",
       "5           5  97522e57-d9ab-4bd6-97bf-c24d952602d2   \n",
       "6           6  97522e57-d9ab-4bd6-97bf-c24d952602d2   \n",
       "7           7  97522e57-d9ab-4bd6-97bf-c24d952602d2   \n",
       "8           8  97522e57-d9ab-4bd6-97bf-c24d952602d2   \n",
       "9           9  97522e57-d9ab-4bd6-97bf-c24d952602d2   \n",
       "\n",
       "                                User ID        Type             Datetime  \n",
       "0                                   NaN         NaN  2021-04-22 15:17:15  \n",
       "1  5d454588-283d-459d-915d-c48a2cb4c27f     disgust  2020-11-07 09:43:50  \n",
       "2  92b87fa5-f271-43e0-af66-84fac21052e6     dislike  2021-06-17 12:22:51  \n",
       "3  163daa38-8b77-48c9-9af6-37a6c1447ac2      scared  2021-04-18 05:13:58  \n",
       "4  34e8add9-0206-47fd-a501-037b994650a2     disgust  2021-01-06 19:13:01  \n",
       "5  9b6d35f9-5e15-4cd0-a8d7-b1f3340e02c4  interested  2020-08-23 12:25:58  \n",
       "6  7918d465-0953-4f20-9e28-539e74c82e2f     peeking  2020-12-07 06:27:54  \n",
       "7  fa3e42f0-71d8-455f-b024-e52d5c27a145     cherish  2021-04-11 17:35:49  \n",
       "8  b0c22f82-b882-4394-bf27-6dfadf26e5c2        hate  2021-01-27 08:32:09  \n",
       "9  1932a904-86ba-4438-bb52-b7e6516a4019     peeking  2021-04-01 22:54:23  "
      ]
     },
     "execution_count": 7,
     "metadata": {},
     "output_type": "execute_result"
    }
   ],
   "source": [
    "df_reactions.head(10)"
   ]
  },
  {
   "cell_type": "code",
   "execution_count": 8,
   "id": "df007d77",
   "metadata": {
    "ExecuteTime": {
     "end_time": "2023-10-30T13:56:10.633974Z",
     "start_time": "2023-10-30T13:56:10.622772Z"
    }
   },
   "outputs": [
    {
     "data": {
      "text/html": [
       "<div>\n",
       "<style scoped>\n",
       "    .dataframe tbody tr th:only-of-type {\n",
       "        vertical-align: middle;\n",
       "    }\n",
       "\n",
       "    .dataframe tbody tr th {\n",
       "        vertical-align: top;\n",
       "    }\n",
       "\n",
       "    .dataframe thead th {\n",
       "        text-align: right;\n",
       "    }\n",
       "</style>\n",
       "<table border=\"1\" class=\"dataframe\">\n",
       "  <thead>\n",
       "    <tr style=\"text-align: right;\">\n",
       "      <th></th>\n",
       "      <th>Unnamed: 0</th>\n",
       "      <th>Type</th>\n",
       "      <th>Sentiment</th>\n",
       "      <th>Score</th>\n",
       "    </tr>\n",
       "  </thead>\n",
       "  <tbody>\n",
       "    <tr>\n",
       "      <th>0</th>\n",
       "      <td>0</td>\n",
       "      <td>heart</td>\n",
       "      <td>positive</td>\n",
       "      <td>60</td>\n",
       "    </tr>\n",
       "    <tr>\n",
       "      <th>1</th>\n",
       "      <td>1</td>\n",
       "      <td>want</td>\n",
       "      <td>positive</td>\n",
       "      <td>70</td>\n",
       "    </tr>\n",
       "    <tr>\n",
       "      <th>2</th>\n",
       "      <td>2</td>\n",
       "      <td>disgust</td>\n",
       "      <td>negative</td>\n",
       "      <td>0</td>\n",
       "    </tr>\n",
       "    <tr>\n",
       "      <th>3</th>\n",
       "      <td>3</td>\n",
       "      <td>hate</td>\n",
       "      <td>negative</td>\n",
       "      <td>5</td>\n",
       "    </tr>\n",
       "    <tr>\n",
       "      <th>4</th>\n",
       "      <td>4</td>\n",
       "      <td>interested</td>\n",
       "      <td>positive</td>\n",
       "      <td>30</td>\n",
       "    </tr>\n",
       "    <tr>\n",
       "      <th>5</th>\n",
       "      <td>5</td>\n",
       "      <td>indifferent</td>\n",
       "      <td>neutral</td>\n",
       "      <td>20</td>\n",
       "    </tr>\n",
       "    <tr>\n",
       "      <th>6</th>\n",
       "      <td>6</td>\n",
       "      <td>love</td>\n",
       "      <td>positive</td>\n",
       "      <td>65</td>\n",
       "    </tr>\n",
       "    <tr>\n",
       "      <th>7</th>\n",
       "      <td>7</td>\n",
       "      <td>super love</td>\n",
       "      <td>positive</td>\n",
       "      <td>75</td>\n",
       "    </tr>\n",
       "    <tr>\n",
       "      <th>8</th>\n",
       "      <td>8</td>\n",
       "      <td>cherish</td>\n",
       "      <td>positive</td>\n",
       "      <td>70</td>\n",
       "    </tr>\n",
       "    <tr>\n",
       "      <th>9</th>\n",
       "      <td>9</td>\n",
       "      <td>adore</td>\n",
       "      <td>positive</td>\n",
       "      <td>72</td>\n",
       "    </tr>\n",
       "    <tr>\n",
       "      <th>10</th>\n",
       "      <td>10</td>\n",
       "      <td>like</td>\n",
       "      <td>positive</td>\n",
       "      <td>50</td>\n",
       "    </tr>\n",
       "    <tr>\n",
       "      <th>11</th>\n",
       "      <td>11</td>\n",
       "      <td>dislike</td>\n",
       "      <td>negative</td>\n",
       "      <td>10</td>\n",
       "    </tr>\n",
       "    <tr>\n",
       "      <th>12</th>\n",
       "      <td>12</td>\n",
       "      <td>intrigued</td>\n",
       "      <td>positive</td>\n",
       "      <td>45</td>\n",
       "    </tr>\n",
       "    <tr>\n",
       "      <th>13</th>\n",
       "      <td>13</td>\n",
       "      <td>peeking</td>\n",
       "      <td>neutral</td>\n",
       "      <td>35</td>\n",
       "    </tr>\n",
       "    <tr>\n",
       "      <th>14</th>\n",
       "      <td>14</td>\n",
       "      <td>scared</td>\n",
       "      <td>negative</td>\n",
       "      <td>15</td>\n",
       "    </tr>\n",
       "    <tr>\n",
       "      <th>15</th>\n",
       "      <td>15</td>\n",
       "      <td>worried</td>\n",
       "      <td>negative</td>\n",
       "      <td>12</td>\n",
       "    </tr>\n",
       "  </tbody>\n",
       "</table>\n",
       "</div>"
      ],
      "text/plain": [
       "    Unnamed: 0         Type Sentiment  Score\n",
       "0            0        heart  positive     60\n",
       "1            1         want  positive     70\n",
       "2            2      disgust  negative      0\n",
       "3            3         hate  negative      5\n",
       "4            4   interested  positive     30\n",
       "5            5  indifferent   neutral     20\n",
       "6            6         love  positive     65\n",
       "7            7   super love  positive     75\n",
       "8            8      cherish  positive     70\n",
       "9            9        adore  positive     72\n",
       "10          10         like  positive     50\n",
       "11          11      dislike  negative     10\n",
       "12          12    intrigued  positive     45\n",
       "13          13      peeking   neutral     35\n",
       "14          14       scared  negative     15\n",
       "15          15      worried  negative     12"
      ]
     },
     "execution_count": 8,
     "metadata": {},
     "output_type": "execute_result"
    }
   ],
   "source": [
    "df_reaction_type.head(30)"
   ]
  },
  {
   "cell_type": "markdown",
   "id": "aa7ace36",
   "metadata": {},
   "source": [
    "### 3. Data Preprocessing"
   ]
  },
  {
   "cell_type": "markdown",
   "id": "f3400cba",
   "metadata": {},
   "source": [
    "#### 3a. Data cleaning for df_content"
   ]
  },
  {
   "cell_type": "code",
   "execution_count": 9,
   "id": "83478152",
   "metadata": {
    "ExecuteTime": {
     "end_time": "2023-10-30T13:56:10.641265Z",
     "start_time": "2023-10-30T13:56:10.637233Z"
    }
   },
   "outputs": [],
   "source": [
    "# Dropping 'User ID' and 'URL' columns\n",
    "df_content = df_content.drop(['Unnamed: 0','User ID', 'URL'], axis=1)"
   ]
  },
  {
   "cell_type": "code",
   "execution_count": 10,
   "id": "4e094f32",
   "metadata": {
    "ExecuteTime": {
     "end_time": "2023-10-30T13:56:10.660821Z",
     "start_time": "2023-10-30T13:56:10.649113Z"
    }
   },
   "outputs": [
    {
     "data": {
      "text/html": [
       "<div>\n",
       "<style scoped>\n",
       "    .dataframe tbody tr th:only-of-type {\n",
       "        vertical-align: middle;\n",
       "    }\n",
       "\n",
       "    .dataframe tbody tr th {\n",
       "        vertical-align: top;\n",
       "    }\n",
       "\n",
       "    .dataframe thead th {\n",
       "        text-align: right;\n",
       "    }\n",
       "</style>\n",
       "<table border=\"1\" class=\"dataframe\">\n",
       "  <thead>\n",
       "    <tr style=\"text-align: right;\">\n",
       "      <th></th>\n",
       "      <th>Content ID</th>\n",
       "      <th>Type</th>\n",
       "      <th>Category</th>\n",
       "    </tr>\n",
       "  </thead>\n",
       "  <tbody>\n",
       "    <tr>\n",
       "      <th>519</th>\n",
       "      <td>12a7140a-6fe7-41e2-b2b4-75d913fcca1e</td>\n",
       "      <td>GIF</td>\n",
       "      <td>studying</td>\n",
       "    </tr>\n",
       "    <tr>\n",
       "      <th>209</th>\n",
       "      <td>c9ab41d2-5728-4d94-b16a-1e9b7af9b21d</td>\n",
       "      <td>GIF</td>\n",
       "      <td>veganism</td>\n",
       "    </tr>\n",
       "    <tr>\n",
       "      <th>246</th>\n",
       "      <td>a3e93c2d-7fb4-4881-994d-ee20ad564924</td>\n",
       "      <td>video</td>\n",
       "      <td>public speaking</td>\n",
       "    </tr>\n",
       "    <tr>\n",
       "      <th>255</th>\n",
       "      <td>94be0dfb-a23a-4426-9c3c-e4db1fd914b5</td>\n",
       "      <td>video</td>\n",
       "      <td>public speaking</td>\n",
       "    </tr>\n",
       "    <tr>\n",
       "      <th>372</th>\n",
       "      <td>567ddaca-f9aa-4e53-b9b7-b745a1ac0c95</td>\n",
       "      <td>video</td>\n",
       "      <td>culture</td>\n",
       "    </tr>\n",
       "    <tr>\n",
       "      <th>446</th>\n",
       "      <td>5ecad91d-3e8f-4a9e-9473-c3db5f2ab72f</td>\n",
       "      <td>audio</td>\n",
       "      <td>public speaking</td>\n",
       "    </tr>\n",
       "    <tr>\n",
       "      <th>320</th>\n",
       "      <td>b90bb1f2-9dbf-4802-a0e2-103dac50d272</td>\n",
       "      <td>video</td>\n",
       "      <td>fitness</td>\n",
       "    </tr>\n",
       "    <tr>\n",
       "      <th>808</th>\n",
       "      <td>c9b2829f-278c-4acd-a895-cf0bd337d36f</td>\n",
       "      <td>video</td>\n",
       "      <td>fitness</td>\n",
       "    </tr>\n",
       "    <tr>\n",
       "      <th>121</th>\n",
       "      <td>c6cbd704-9d4a-4ace-b61e-e5df74ee83af</td>\n",
       "      <td>photo</td>\n",
       "      <td>education</td>\n",
       "    </tr>\n",
       "    <tr>\n",
       "      <th>694</th>\n",
       "      <td>27e2cea3-b408-4e66-801b-29fdf7c03b05</td>\n",
       "      <td>photo</td>\n",
       "      <td>travel</td>\n",
       "    </tr>\n",
       "  </tbody>\n",
       "</table>\n",
       "</div>"
      ],
      "text/plain": [
       "                               Content ID   Type         Category\n",
       "519  12a7140a-6fe7-41e2-b2b4-75d913fcca1e    GIF         studying\n",
       "209  c9ab41d2-5728-4d94-b16a-1e9b7af9b21d    GIF         veganism\n",
       "246  a3e93c2d-7fb4-4881-994d-ee20ad564924  video  public speaking\n",
       "255  94be0dfb-a23a-4426-9c3c-e4db1fd914b5  video  public speaking\n",
       "372  567ddaca-f9aa-4e53-b9b7-b745a1ac0c95  video          culture\n",
       "446  5ecad91d-3e8f-4a9e-9473-c3db5f2ab72f  audio  public speaking\n",
       "320  b90bb1f2-9dbf-4802-a0e2-103dac50d272  video          fitness\n",
       "808  c9b2829f-278c-4acd-a895-cf0bd337d36f  video          fitness\n",
       "121  c6cbd704-9d4a-4ace-b61e-e5df74ee83af  photo        education\n",
       "694  27e2cea3-b408-4e66-801b-29fdf7c03b05  photo           travel"
      ]
     },
     "execution_count": 10,
     "metadata": {},
     "output_type": "execute_result"
    }
   ],
   "source": [
    "df_content.sample(10)"
   ]
  },
  {
   "cell_type": "code",
   "execution_count": 11,
   "id": "edf1e316",
   "metadata": {
    "ExecuteTime": {
     "end_time": "2023-10-30T13:56:10.675458Z",
     "start_time": "2023-10-30T13:56:10.663271Z"
    }
   },
   "outputs": [
    {
     "name": "stdout",
     "output_type": "stream",
     "text": [
      "<class 'pandas.core.frame.DataFrame'>\n",
      "RangeIndex: 1000 entries, 0 to 999\n",
      "Data columns (total 3 columns):\n",
      " #   Column      Non-Null Count  Dtype \n",
      "---  ------      --------------  ----- \n",
      " 0   Content ID  1000 non-null   object\n",
      " 1   Type        1000 non-null   object\n",
      " 2   Category    1000 non-null   object\n",
      "dtypes: object(3)\n",
      "memory usage: 23.6+ KB\n"
     ]
    }
   ],
   "source": [
    "df_content.info()"
   ]
  },
  {
   "cell_type": "code",
   "execution_count": 12,
   "id": "8ec30458",
   "metadata": {
    "ExecuteTime": {
     "end_time": "2023-10-30T13:56:10.682771Z",
     "start_time": "2023-10-30T13:56:10.678126Z"
    }
   },
   "outputs": [],
   "source": [
    "df_content['Category'] = df_content['Category'].str.replace('\"', '')"
   ]
  },
  {
   "cell_type": "code",
   "execution_count": 13,
   "id": "94c790df",
   "metadata": {
    "ExecuteTime": {
     "end_time": "2023-10-30T13:56:10.688994Z",
     "start_time": "2023-10-30T13:56:10.684946Z"
    }
   },
   "outputs": [],
   "source": [
    "# Renaming 'Type' column to 'content Type'\n",
    "df_content = df_content.rename(columns={'Type': 'Content Type'})"
   ]
  },
  {
   "cell_type": "code",
   "execution_count": 14,
   "id": "94449549",
   "metadata": {
    "ExecuteTime": {
     "end_time": "2023-10-30T13:56:10.699145Z",
     "start_time": "2023-10-30T13:56:10.691283Z"
    },
    "scrolled": false
   },
   "outputs": [
    {
     "data": {
      "text/html": [
       "<div>\n",
       "<style scoped>\n",
       "    .dataframe tbody tr th:only-of-type {\n",
       "        vertical-align: middle;\n",
       "    }\n",
       "\n",
       "    .dataframe tbody tr th {\n",
       "        vertical-align: top;\n",
       "    }\n",
       "\n",
       "    .dataframe thead th {\n",
       "        text-align: right;\n",
       "    }\n",
       "</style>\n",
       "<table border=\"1\" class=\"dataframe\">\n",
       "  <thead>\n",
       "    <tr style=\"text-align: right;\">\n",
       "      <th></th>\n",
       "      <th>Content ID</th>\n",
       "      <th>Content Type</th>\n",
       "      <th>Category</th>\n",
       "    </tr>\n",
       "  </thead>\n",
       "  <tbody>\n",
       "    <tr>\n",
       "      <th>0</th>\n",
       "      <td>97522e57-d9ab-4bd6-97bf-c24d952602d2</td>\n",
       "      <td>photo</td>\n",
       "      <td>Studying</td>\n",
       "    </tr>\n",
       "    <tr>\n",
       "      <th>1</th>\n",
       "      <td>9f737e0a-3cdd-4d29-9d24-753f4e3be810</td>\n",
       "      <td>photo</td>\n",
       "      <td>healthy eating</td>\n",
       "    </tr>\n",
       "    <tr>\n",
       "      <th>2</th>\n",
       "      <td>230c4e4d-70c3-461d-b42c-ec09396efb3f</td>\n",
       "      <td>photo</td>\n",
       "      <td>healthy eating</td>\n",
       "    </tr>\n",
       "    <tr>\n",
       "      <th>3</th>\n",
       "      <td>356fff80-da4d-4785-9f43-bc1261031dc6</td>\n",
       "      <td>photo</td>\n",
       "      <td>technology</td>\n",
       "    </tr>\n",
       "    <tr>\n",
       "      <th>4</th>\n",
       "      <td>01ab84dd-6364-4236-abbb-3f237db77180</td>\n",
       "      <td>video</td>\n",
       "      <td>food</td>\n",
       "    </tr>\n",
       "  </tbody>\n",
       "</table>\n",
       "</div>"
      ],
      "text/plain": [
       "                             Content ID Content Type        Category\n",
       "0  97522e57-d9ab-4bd6-97bf-c24d952602d2        photo        Studying\n",
       "1  9f737e0a-3cdd-4d29-9d24-753f4e3be810        photo  healthy eating\n",
       "2  230c4e4d-70c3-461d-b42c-ec09396efb3f        photo  healthy eating\n",
       "3  356fff80-da4d-4785-9f43-bc1261031dc6        photo      technology\n",
       "4  01ab84dd-6364-4236-abbb-3f237db77180        video            food"
      ]
     },
     "execution_count": 14,
     "metadata": {},
     "output_type": "execute_result"
    }
   ],
   "source": [
    "df_content.head()"
   ]
  },
  {
   "cell_type": "code",
   "execution_count": 15,
   "id": "d966f8af",
   "metadata": {
    "ExecuteTime": {
     "end_time": "2023-10-30T13:56:10.708757Z",
     "start_time": "2023-10-30T13:56:10.702230Z"
    },
    "scrolled": true
   },
   "outputs": [
    {
     "name": "stdout",
     "output_type": "stream",
     "text": [
      "['Studying' 'Healthy eating' 'Technology' 'Food' 'Cooking' 'Dogs' 'Soccer'\n",
      " 'Public speaking' 'Science' 'Tennis' 'Travel' 'Fitness' 'Education'\n",
      " 'Veganism' 'Animals' 'Culture']\n",
      "16\n"
     ]
    }
   ],
   "source": [
    "# We see that there are duplicated items as well (some begin with uppercase letters and others begin with lowercase letters). Let's unify this.\n",
    "df_content['Category'] = df_content['Category'].str.capitalize()\n",
    "print(df_content.Category.unique())\n",
    "print(len(df_content.Category.unique()))"
   ]
  },
  {
   "cell_type": "code",
   "execution_count": 16,
   "id": "3c13f992",
   "metadata": {
    "ExecuteTime": {
     "end_time": "2023-10-30T13:56:10.720227Z",
     "start_time": "2023-10-30T13:56:10.710705Z"
    },
    "scrolled": true
   },
   "outputs": [
    {
     "name": "stdout",
     "output_type": "stream",
     "text": [
      "<class 'pandas.core.frame.DataFrame'>\n",
      "RangeIndex: 1000 entries, 0 to 999\n",
      "Data columns (total 3 columns):\n",
      " #   Column        Non-Null Count  Dtype   \n",
      "---  ------        --------------  -----   \n",
      " 0   Content ID    1000 non-null   object  \n",
      " 1   Content Type  1000 non-null   object  \n",
      " 2   Category      1000 non-null   category\n",
      "dtypes: category(1), object(2)\n",
      "memory usage: 17.4+ KB\n"
     ]
    }
   ],
   "source": [
    "#The 'Category' column has 16 unique items. Relative to the entire length of the dataset, this column should be made categorical rather than a string. This reduces the total size of the dataset, hence maximising storage.\n",
    "df_content['Category'] = df_content['Category'].astype('category')\n",
    "df_content.info()"
   ]
  },
  {
   "cell_type": "code",
   "execution_count": 17,
   "id": "14821203",
   "metadata": {
    "ExecuteTime": {
     "end_time": "2023-10-30T13:56:10.728465Z",
     "start_time": "2023-10-30T13:56:10.723156Z"
    }
   },
   "outputs": [
    {
     "data": {
      "text/plain": [
       "array(['photo', 'video', 'GIF', 'audio'], dtype=object)"
      ]
     },
     "execution_count": 17,
     "metadata": {},
     "output_type": "execute_result"
    }
   ],
   "source": [
    "df_content['Content Type'].unique()"
   ]
  },
  {
   "cell_type": "code",
   "execution_count": 18,
   "id": "86c7749e",
   "metadata": {
    "ExecuteTime": {
     "end_time": "2023-10-30T13:56:10.741770Z",
     "start_time": "2023-10-30T13:56:10.731366Z"
    }
   },
   "outputs": [
    {
     "name": "stdout",
     "output_type": "stream",
     "text": [
      "<class 'pandas.core.frame.DataFrame'>\n",
      "RangeIndex: 1000 entries, 0 to 999\n",
      "Data columns (total 3 columns):\n",
      " #   Column        Non-Null Count  Dtype   \n",
      "---  ------        --------------  -----   \n",
      " 0   Content ID    1000 non-null   object  \n",
      " 1   Content Type  1000 non-null   category\n",
      " 2   Category      1000 non-null   category\n",
      "dtypes: category(2), object(1)\n",
      "memory usage: 10.8+ KB\n"
     ]
    }
   ],
   "source": [
    "# The 'Content Type' column has 4 unique items. Relative to the entire length of the dataset, this column should be made categorical rather than a string. This reduces the total size of the dataset, hence maximising storage.\n",
    "df_content['Content Type'] = df_content['Content Type'].astype('category')\n",
    "df_content.info()"
   ]
  },
  {
   "cell_type": "markdown",
   "id": "75248404",
   "metadata": {},
   "source": [
    "#### 3b. Data cleaning for df_reactions"
   ]
  },
  {
   "cell_type": "code",
   "execution_count": 19,
   "id": "fe8b1aa6",
   "metadata": {
    "ExecuteTime": {
     "end_time": "2023-10-30T13:56:10.749567Z",
     "start_time": "2023-10-30T13:56:10.744782Z"
    }
   },
   "outputs": [
    {
     "data": {
      "text/plain": [
       "Index(['Unnamed: 0', 'Content ID', 'User ID', 'Type', 'Datetime'], dtype='object')"
      ]
     },
     "execution_count": 19,
     "metadata": {},
     "output_type": "execute_result"
    }
   ],
   "source": [
    "df_reactions.columns"
   ]
  },
  {
   "cell_type": "code",
   "execution_count": 20,
   "id": "8d7d86b1",
   "metadata": {
    "ExecuteTime": {
     "end_time": "2023-10-30T13:56:10.756208Z",
     "start_time": "2023-10-30T13:56:10.751830Z"
    }
   },
   "outputs": [],
   "source": [
    "# Dropping 'User ID' columns\n",
    "df_reactions = df_reactions.drop(['Unnamed: 0','User ID'], axis=1)"
   ]
  },
  {
   "cell_type": "code",
   "execution_count": 21,
   "id": "db854680",
   "metadata": {
    "ExecuteTime": {
     "end_time": "2023-10-30T13:56:10.778469Z",
     "start_time": "2023-10-30T13:56:10.758698Z"
    }
   },
   "outputs": [
    {
     "name": "stdout",
     "output_type": "stream",
     "text": [
      "<class 'pandas.core.frame.DataFrame'>\n",
      "RangeIndex: 25553 entries, 0 to 25552\n",
      "Data columns (total 3 columns):\n",
      " #   Column      Non-Null Count  Dtype \n",
      "---  ------      --------------  ----- \n",
      " 0   Content ID  25553 non-null  object\n",
      " 1   Type        24573 non-null  object\n",
      " 2   Datetime    25553 non-null  object\n",
      "dtypes: object(3)\n",
      "memory usage: 599.0+ KB\n"
     ]
    }
   ],
   "source": [
    "df_reactions.info()"
   ]
  },
  {
   "cell_type": "code",
   "execution_count": 22,
   "id": "2f6d7067",
   "metadata": {
    "ExecuteTime": {
     "end_time": "2023-10-30T13:56:10.809102Z",
     "start_time": "2023-10-30T13:56:10.780781Z"
    }
   },
   "outputs": [
    {
     "name": "stdout",
     "output_type": "stream",
     "text": [
      "Null value counts:\n",
      " Content ID      0\n",
      "Type          980\n",
      "Datetime        0\n",
      "dtype: int64\n"
     ]
    }
   ],
   "source": [
    "# Checking for null values\n",
    "null_counts = df_reactions.isnull().sum()\n",
    "print(\"Null value counts:\\n\", null_counts)\n",
    "\n",
    "# Dropping rows with null values\n",
    "df_reactions = df_reactions.dropna()"
   ]
  },
  {
   "cell_type": "code",
   "execution_count": 23,
   "id": "07fe21ba",
   "metadata": {
    "ExecuteTime": {
     "end_time": "2023-10-30T13:56:10.826464Z",
     "start_time": "2023-10-30T13:56:10.811183Z"
    }
   },
   "outputs": [
    {
     "data": {
      "text/plain": [
       "Content ID    0\n",
       "Type          0\n",
       "Datetime      0\n",
       "dtype: int64"
      ]
     },
     "execution_count": 23,
     "metadata": {},
     "output_type": "execute_result"
    }
   ],
   "source": [
    "df_reactions.isnull().sum()"
   ]
  },
  {
   "cell_type": "code",
   "execution_count": 24,
   "id": "66ffa6b3",
   "metadata": {
    "ExecuteTime": {
     "end_time": "2023-10-30T13:56:10.836440Z",
     "start_time": "2023-10-30T13:56:10.829514Z"
    }
   },
   "outputs": [
    {
     "data": {
      "text/html": [
       "<div>\n",
       "<style scoped>\n",
       "    .dataframe tbody tr th:only-of-type {\n",
       "        vertical-align: middle;\n",
       "    }\n",
       "\n",
       "    .dataframe tbody tr th {\n",
       "        vertical-align: top;\n",
       "    }\n",
       "\n",
       "    .dataframe thead th {\n",
       "        text-align: right;\n",
       "    }\n",
       "</style>\n",
       "<table border=\"1\" class=\"dataframe\">\n",
       "  <thead>\n",
       "    <tr style=\"text-align: right;\">\n",
       "      <th></th>\n",
       "      <th>Content ID</th>\n",
       "      <th>Type</th>\n",
       "      <th>Datetime</th>\n",
       "    </tr>\n",
       "  </thead>\n",
       "  <tbody>\n",
       "    <tr>\n",
       "      <th>1</th>\n",
       "      <td>97522e57-d9ab-4bd6-97bf-c24d952602d2</td>\n",
       "      <td>disgust</td>\n",
       "      <td>2020-11-07 09:43:50</td>\n",
       "    </tr>\n",
       "    <tr>\n",
       "      <th>2</th>\n",
       "      <td>97522e57-d9ab-4bd6-97bf-c24d952602d2</td>\n",
       "      <td>dislike</td>\n",
       "      <td>2021-06-17 12:22:51</td>\n",
       "    </tr>\n",
       "    <tr>\n",
       "      <th>3</th>\n",
       "      <td>97522e57-d9ab-4bd6-97bf-c24d952602d2</td>\n",
       "      <td>scared</td>\n",
       "      <td>2021-04-18 05:13:58</td>\n",
       "    </tr>\n",
       "    <tr>\n",
       "      <th>4</th>\n",
       "      <td>97522e57-d9ab-4bd6-97bf-c24d952602d2</td>\n",
       "      <td>disgust</td>\n",
       "      <td>2021-01-06 19:13:01</td>\n",
       "    </tr>\n",
       "    <tr>\n",
       "      <th>5</th>\n",
       "      <td>97522e57-d9ab-4bd6-97bf-c24d952602d2</td>\n",
       "      <td>interested</td>\n",
       "      <td>2020-08-23 12:25:58</td>\n",
       "    </tr>\n",
       "  </tbody>\n",
       "</table>\n",
       "</div>"
      ],
      "text/plain": [
       "                             Content ID        Type             Datetime\n",
       "1  97522e57-d9ab-4bd6-97bf-c24d952602d2     disgust  2020-11-07 09:43:50\n",
       "2  97522e57-d9ab-4bd6-97bf-c24d952602d2     dislike  2021-06-17 12:22:51\n",
       "3  97522e57-d9ab-4bd6-97bf-c24d952602d2      scared  2021-04-18 05:13:58\n",
       "4  97522e57-d9ab-4bd6-97bf-c24d952602d2     disgust  2021-01-06 19:13:01\n",
       "5  97522e57-d9ab-4bd6-97bf-c24d952602d2  interested  2020-08-23 12:25:58"
      ]
     },
     "execution_count": 24,
     "metadata": {},
     "output_type": "execute_result"
    }
   ],
   "source": [
    "df_reactions.head()"
   ]
  },
  {
   "cell_type": "code",
   "execution_count": 25,
   "id": "aaba6639",
   "metadata": {
    "ExecuteTime": {
     "end_time": "2023-10-30T13:56:10.842213Z",
     "start_time": "2023-10-30T13:56:10.839065Z"
    }
   },
   "outputs": [],
   "source": [
    "# Renaming 'Type' column to 'Reaction Type'\n",
    "df_reactions = df_reactions.rename(columns={'Type': 'Reaction Type'})"
   ]
  },
  {
   "cell_type": "code",
   "execution_count": 26,
   "id": "f1053944",
   "metadata": {
    "ExecuteTime": {
     "end_time": "2023-10-30T13:56:10.853178Z",
     "start_time": "2023-10-30T13:56:10.845835Z"
    }
   },
   "outputs": [
    {
     "data": {
      "text/html": [
       "<div>\n",
       "<style scoped>\n",
       "    .dataframe tbody tr th:only-of-type {\n",
       "        vertical-align: middle;\n",
       "    }\n",
       "\n",
       "    .dataframe tbody tr th {\n",
       "        vertical-align: top;\n",
       "    }\n",
       "\n",
       "    .dataframe thead th {\n",
       "        text-align: right;\n",
       "    }\n",
       "</style>\n",
       "<table border=\"1\" class=\"dataframe\">\n",
       "  <thead>\n",
       "    <tr style=\"text-align: right;\">\n",
       "      <th></th>\n",
       "      <th>Content ID</th>\n",
       "      <th>Reaction Type</th>\n",
       "      <th>Datetime</th>\n",
       "    </tr>\n",
       "  </thead>\n",
       "  <tbody>\n",
       "    <tr>\n",
       "      <th>1</th>\n",
       "      <td>97522e57-d9ab-4bd6-97bf-c24d952602d2</td>\n",
       "      <td>disgust</td>\n",
       "      <td>2020-11-07 09:43:50</td>\n",
       "    </tr>\n",
       "    <tr>\n",
       "      <th>2</th>\n",
       "      <td>97522e57-d9ab-4bd6-97bf-c24d952602d2</td>\n",
       "      <td>dislike</td>\n",
       "      <td>2021-06-17 12:22:51</td>\n",
       "    </tr>\n",
       "    <tr>\n",
       "      <th>3</th>\n",
       "      <td>97522e57-d9ab-4bd6-97bf-c24d952602d2</td>\n",
       "      <td>scared</td>\n",
       "      <td>2021-04-18 05:13:58</td>\n",
       "    </tr>\n",
       "    <tr>\n",
       "      <th>4</th>\n",
       "      <td>97522e57-d9ab-4bd6-97bf-c24d952602d2</td>\n",
       "      <td>disgust</td>\n",
       "      <td>2021-01-06 19:13:01</td>\n",
       "    </tr>\n",
       "    <tr>\n",
       "      <th>5</th>\n",
       "      <td>97522e57-d9ab-4bd6-97bf-c24d952602d2</td>\n",
       "      <td>interested</td>\n",
       "      <td>2020-08-23 12:25:58</td>\n",
       "    </tr>\n",
       "  </tbody>\n",
       "</table>\n",
       "</div>"
      ],
      "text/plain": [
       "                             Content ID Reaction Type             Datetime\n",
       "1  97522e57-d9ab-4bd6-97bf-c24d952602d2       disgust  2020-11-07 09:43:50\n",
       "2  97522e57-d9ab-4bd6-97bf-c24d952602d2       dislike  2021-06-17 12:22:51\n",
       "3  97522e57-d9ab-4bd6-97bf-c24d952602d2        scared  2021-04-18 05:13:58\n",
       "4  97522e57-d9ab-4bd6-97bf-c24d952602d2       disgust  2021-01-06 19:13:01\n",
       "5  97522e57-d9ab-4bd6-97bf-c24d952602d2    interested  2020-08-23 12:25:58"
      ]
     },
     "execution_count": 26,
     "metadata": {},
     "output_type": "execute_result"
    }
   ],
   "source": [
    "df_reactions.head()"
   ]
  },
  {
   "cell_type": "code",
   "execution_count": 27,
   "id": "9ed3ce4b",
   "metadata": {
    "ExecuteTime": {
     "end_time": "2023-10-30T13:56:10.860811Z",
     "start_time": "2023-10-30T13:56:10.855246Z"
    }
   },
   "outputs": [
    {
     "data": {
      "text/plain": [
       "array(['disgust', 'dislike', 'scared', 'interested', 'peeking', 'cherish',\n",
       "       'hate', 'love', 'indifferent', 'super love', 'intrigued',\n",
       "       'worried', 'like', 'heart', 'want', 'adore'], dtype=object)"
      ]
     },
     "execution_count": 27,
     "metadata": {},
     "output_type": "execute_result"
    }
   ],
   "source": [
    "# The 'Reaction type' column should be made categorical since there are distinct reactions. This reduces the total size of the dataset, hence maximising storage.\n",
    "df_reactions['Reaction Type'].unique()"
   ]
  },
  {
   "cell_type": "code",
   "execution_count": 28,
   "id": "4e86fde6",
   "metadata": {
    "ExecuteTime": {
     "end_time": "2023-10-30T13:56:10.891936Z",
     "start_time": "2023-10-30T13:56:10.869269Z"
    }
   },
   "outputs": [
    {
     "name": "stdout",
     "output_type": "stream",
     "text": [
      "<class 'pandas.core.frame.DataFrame'>\n",
      "Int64Index: 24573 entries, 1 to 25552\n",
      "Data columns (total 4 columns):\n",
      " #   Column          Non-Null Count  Dtype   \n",
      "---  ------          --------------  -----   \n",
      " 0   Content ID      24573 non-null  object  \n",
      " 1   Reaction Type   24573 non-null  object  \n",
      " 2   Datetime        24573 non-null  object  \n",
      " 3   Reaction ~Type  24573 non-null  category\n",
      "dtypes: category(1), object(3)\n",
      "memory usage: 792.6+ KB\n"
     ]
    }
   ],
   "source": [
    "df_reactions['Reaction ~Type'] = df_reactions['Reaction Type'].astype('category')\n",
    "df_reactions.info()"
   ]
  },
  {
   "cell_type": "code",
   "execution_count": 29,
   "id": "251453d2",
   "metadata": {
    "ExecuteTime": {
     "end_time": "2023-10-30T13:56:10.902289Z",
     "start_time": "2023-10-30T13:56:10.894041Z"
    }
   },
   "outputs": [],
   "source": [
    "# Convert 'Datetime' column to datetime datatype\n",
    "df_reactions['Datetime'] = pd.to_datetime(df_reactions['Datetime'])"
   ]
  },
  {
   "cell_type": "code",
   "execution_count": 30,
   "id": "09f3a511",
   "metadata": {
    "ExecuteTime": {
     "end_time": "2023-10-30T13:56:10.919887Z",
     "start_time": "2023-10-30T13:56:10.904316Z"
    },
    "scrolled": true
   },
   "outputs": [
    {
     "name": "stdout",
     "output_type": "stream",
     "text": [
      "<class 'pandas.core.frame.DataFrame'>\n",
      "Int64Index: 24573 entries, 1 to 25552\n",
      "Data columns (total 4 columns):\n",
      " #   Column          Non-Null Count  Dtype         \n",
      "---  ------          --------------  -----         \n",
      " 0   Content ID      24573 non-null  object        \n",
      " 1   Reaction Type   24573 non-null  object        \n",
      " 2   Datetime        24573 non-null  datetime64[ns]\n",
      " 3   Reaction ~Type  24573 non-null  category      \n",
      "dtypes: category(1), datetime64[ns](1), object(2)\n",
      "memory usage: 792.6+ KB\n"
     ]
    }
   ],
   "source": [
    "df_reactions.info()"
   ]
  },
  {
   "cell_type": "markdown",
   "id": "aa1bc4e4",
   "metadata": {},
   "source": [
    "#### 3c. Data cleaning for df_reaction_type"
   ]
  },
  {
   "cell_type": "code",
   "execution_count": 31,
   "id": "e6517cc8",
   "metadata": {
    "ExecuteTime": {
     "end_time": "2023-10-30T13:56:10.929151Z",
     "start_time": "2023-10-30T13:56:10.922508Z"
    }
   },
   "outputs": [
    {
     "data": {
      "text/html": [
       "<div>\n",
       "<style scoped>\n",
       "    .dataframe tbody tr th:only-of-type {\n",
       "        vertical-align: middle;\n",
       "    }\n",
       "\n",
       "    .dataframe tbody tr th {\n",
       "        vertical-align: top;\n",
       "    }\n",
       "\n",
       "    .dataframe thead th {\n",
       "        text-align: right;\n",
       "    }\n",
       "</style>\n",
       "<table border=\"1\" class=\"dataframe\">\n",
       "  <thead>\n",
       "    <tr style=\"text-align: right;\">\n",
       "      <th></th>\n",
       "      <th>Unnamed: 0</th>\n",
       "      <th>Type</th>\n",
       "      <th>Sentiment</th>\n",
       "      <th>Score</th>\n",
       "    </tr>\n",
       "  </thead>\n",
       "  <tbody>\n",
       "    <tr>\n",
       "      <th>0</th>\n",
       "      <td>0</td>\n",
       "      <td>heart</td>\n",
       "      <td>positive</td>\n",
       "      <td>60</td>\n",
       "    </tr>\n",
       "    <tr>\n",
       "      <th>1</th>\n",
       "      <td>1</td>\n",
       "      <td>want</td>\n",
       "      <td>positive</td>\n",
       "      <td>70</td>\n",
       "    </tr>\n",
       "    <tr>\n",
       "      <th>2</th>\n",
       "      <td>2</td>\n",
       "      <td>disgust</td>\n",
       "      <td>negative</td>\n",
       "      <td>0</td>\n",
       "    </tr>\n",
       "    <tr>\n",
       "      <th>3</th>\n",
       "      <td>3</td>\n",
       "      <td>hate</td>\n",
       "      <td>negative</td>\n",
       "      <td>5</td>\n",
       "    </tr>\n",
       "    <tr>\n",
       "      <th>4</th>\n",
       "      <td>4</td>\n",
       "      <td>interested</td>\n",
       "      <td>positive</td>\n",
       "      <td>30</td>\n",
       "    </tr>\n",
       "  </tbody>\n",
       "</table>\n",
       "</div>"
      ],
      "text/plain": [
       "   Unnamed: 0        Type Sentiment  Score\n",
       "0           0       heart  positive     60\n",
       "1           1        want  positive     70\n",
       "2           2     disgust  negative      0\n",
       "3           3        hate  negative      5\n",
       "4           4  interested  positive     30"
      ]
     },
     "execution_count": 31,
     "metadata": {},
     "output_type": "execute_result"
    }
   ],
   "source": [
    "df_reaction_type.head()"
   ]
  },
  {
   "cell_type": "code",
   "execution_count": 32,
   "id": "3238b72d",
   "metadata": {
    "ExecuteTime": {
     "end_time": "2023-10-30T13:56:10.934750Z",
     "start_time": "2023-10-30T13:56:10.931321Z"
    }
   },
   "outputs": [],
   "source": [
    "# Dropping 'Unnamed: 0' columns\n",
    "df_reaction_type = df_reaction_type.drop(['Unnamed: 0'], axis=1)"
   ]
  },
  {
   "cell_type": "code",
   "execution_count": 33,
   "id": "d04d00b5",
   "metadata": {
    "ExecuteTime": {
     "end_time": "2023-10-30T13:56:10.942969Z",
     "start_time": "2023-10-30T13:56:10.936515Z"
    },
    "scrolled": true
   },
   "outputs": [
    {
     "data": {
      "text/html": [
       "<div>\n",
       "<style scoped>\n",
       "    .dataframe tbody tr th:only-of-type {\n",
       "        vertical-align: middle;\n",
       "    }\n",
       "\n",
       "    .dataframe tbody tr th {\n",
       "        vertical-align: top;\n",
       "    }\n",
       "\n",
       "    .dataframe thead th {\n",
       "        text-align: right;\n",
       "    }\n",
       "</style>\n",
       "<table border=\"1\" class=\"dataframe\">\n",
       "  <thead>\n",
       "    <tr style=\"text-align: right;\">\n",
       "      <th></th>\n",
       "      <th>Type</th>\n",
       "      <th>Sentiment</th>\n",
       "      <th>Score</th>\n",
       "    </tr>\n",
       "  </thead>\n",
       "  <tbody>\n",
       "    <tr>\n",
       "      <th>0</th>\n",
       "      <td>heart</td>\n",
       "      <td>positive</td>\n",
       "      <td>60</td>\n",
       "    </tr>\n",
       "    <tr>\n",
       "      <th>1</th>\n",
       "      <td>want</td>\n",
       "      <td>positive</td>\n",
       "      <td>70</td>\n",
       "    </tr>\n",
       "    <tr>\n",
       "      <th>2</th>\n",
       "      <td>disgust</td>\n",
       "      <td>negative</td>\n",
       "      <td>0</td>\n",
       "    </tr>\n",
       "    <tr>\n",
       "      <th>3</th>\n",
       "      <td>hate</td>\n",
       "      <td>negative</td>\n",
       "      <td>5</td>\n",
       "    </tr>\n",
       "    <tr>\n",
       "      <th>4</th>\n",
       "      <td>interested</td>\n",
       "      <td>positive</td>\n",
       "      <td>30</td>\n",
       "    </tr>\n",
       "  </tbody>\n",
       "</table>\n",
       "</div>"
      ],
      "text/plain": [
       "         Type Sentiment  Score\n",
       "0       heart  positive     60\n",
       "1        want  positive     70\n",
       "2     disgust  negative      0\n",
       "3        hate  negative      5\n",
       "4  interested  positive     30"
      ]
     },
     "execution_count": 33,
     "metadata": {},
     "output_type": "execute_result"
    }
   ],
   "source": [
    "df_reaction_type.head()"
   ]
  },
  {
   "cell_type": "code",
   "execution_count": 34,
   "id": "ffe49d17",
   "metadata": {
    "ExecuteTime": {
     "end_time": "2023-10-30T13:56:10.948477Z",
     "start_time": "2023-10-30T13:56:10.944978Z"
    }
   },
   "outputs": [],
   "source": [
    "# Renaming 'Type' column to 'Reaction Type'\n",
    "df_reaction_type = df_reaction_type.rename(columns={'Type': 'Reaction Type'})"
   ]
  },
  {
   "cell_type": "code",
   "execution_count": 35,
   "id": "97028b67",
   "metadata": {
    "ExecuteTime": {
     "end_time": "2023-10-30T13:56:10.961167Z",
     "start_time": "2023-10-30T13:56:10.952591Z"
    }
   },
   "outputs": [
    {
     "name": "stdout",
     "output_type": "stream",
     "text": [
      "<class 'pandas.core.frame.DataFrame'>\n",
      "RangeIndex: 16 entries, 0 to 15\n",
      "Data columns (total 3 columns):\n",
      " #   Column         Non-Null Count  Dtype \n",
      "---  ------         --------------  ----- \n",
      " 0   Reaction Type  16 non-null     object\n",
      " 1   Sentiment      16 non-null     object\n",
      " 2   Score          16 non-null     int64 \n",
      "dtypes: int64(1), object(2)\n",
      "memory usage: 512.0+ bytes\n"
     ]
    }
   ],
   "source": [
    "df_reaction_type.info()"
   ]
  },
  {
   "cell_type": "code",
   "execution_count": 36,
   "id": "7fe96c51",
   "metadata": {
    "ExecuteTime": {
     "end_time": "2023-10-30T13:56:10.969748Z",
     "start_time": "2023-10-30T13:56:10.962937Z"
    }
   },
   "outputs": [
    {
     "data": {
      "text/html": [
       "<div>\n",
       "<style scoped>\n",
       "    .dataframe tbody tr th:only-of-type {\n",
       "        vertical-align: middle;\n",
       "    }\n",
       "\n",
       "    .dataframe tbody tr th {\n",
       "        vertical-align: top;\n",
       "    }\n",
       "\n",
       "    .dataframe thead th {\n",
       "        text-align: right;\n",
       "    }\n",
       "</style>\n",
       "<table border=\"1\" class=\"dataframe\">\n",
       "  <thead>\n",
       "    <tr style=\"text-align: right;\">\n",
       "      <th></th>\n",
       "      <th>Reaction Type</th>\n",
       "      <th>Sentiment</th>\n",
       "      <th>Score</th>\n",
       "    </tr>\n",
       "  </thead>\n",
       "  <tbody>\n",
       "    <tr>\n",
       "      <th>0</th>\n",
       "      <td>heart</td>\n",
       "      <td>positive</td>\n",
       "      <td>60</td>\n",
       "    </tr>\n",
       "    <tr>\n",
       "      <th>1</th>\n",
       "      <td>want</td>\n",
       "      <td>positive</td>\n",
       "      <td>70</td>\n",
       "    </tr>\n",
       "    <tr>\n",
       "      <th>2</th>\n",
       "      <td>disgust</td>\n",
       "      <td>negative</td>\n",
       "      <td>0</td>\n",
       "    </tr>\n",
       "    <tr>\n",
       "      <th>3</th>\n",
       "      <td>hate</td>\n",
       "      <td>negative</td>\n",
       "      <td>5</td>\n",
       "    </tr>\n",
       "    <tr>\n",
       "      <th>4</th>\n",
       "      <td>interested</td>\n",
       "      <td>positive</td>\n",
       "      <td>30</td>\n",
       "    </tr>\n",
       "    <tr>\n",
       "      <th>5</th>\n",
       "      <td>indifferent</td>\n",
       "      <td>neutral</td>\n",
       "      <td>20</td>\n",
       "    </tr>\n",
       "    <tr>\n",
       "      <th>6</th>\n",
       "      <td>love</td>\n",
       "      <td>positive</td>\n",
       "      <td>65</td>\n",
       "    </tr>\n",
       "    <tr>\n",
       "      <th>7</th>\n",
       "      <td>super love</td>\n",
       "      <td>positive</td>\n",
       "      <td>75</td>\n",
       "    </tr>\n",
       "    <tr>\n",
       "      <th>8</th>\n",
       "      <td>cherish</td>\n",
       "      <td>positive</td>\n",
       "      <td>70</td>\n",
       "    </tr>\n",
       "    <tr>\n",
       "      <th>9</th>\n",
       "      <td>adore</td>\n",
       "      <td>positive</td>\n",
       "      <td>72</td>\n",
       "    </tr>\n",
       "    <tr>\n",
       "      <th>10</th>\n",
       "      <td>like</td>\n",
       "      <td>positive</td>\n",
       "      <td>50</td>\n",
       "    </tr>\n",
       "    <tr>\n",
       "      <th>11</th>\n",
       "      <td>dislike</td>\n",
       "      <td>negative</td>\n",
       "      <td>10</td>\n",
       "    </tr>\n",
       "    <tr>\n",
       "      <th>12</th>\n",
       "      <td>intrigued</td>\n",
       "      <td>positive</td>\n",
       "      <td>45</td>\n",
       "    </tr>\n",
       "    <tr>\n",
       "      <th>13</th>\n",
       "      <td>peeking</td>\n",
       "      <td>neutral</td>\n",
       "      <td>35</td>\n",
       "    </tr>\n",
       "    <tr>\n",
       "      <th>14</th>\n",
       "      <td>scared</td>\n",
       "      <td>negative</td>\n",
       "      <td>15</td>\n",
       "    </tr>\n",
       "    <tr>\n",
       "      <th>15</th>\n",
       "      <td>worried</td>\n",
       "      <td>negative</td>\n",
       "      <td>12</td>\n",
       "    </tr>\n",
       "  </tbody>\n",
       "</table>\n",
       "</div>"
      ],
      "text/plain": [
       "   Reaction Type Sentiment  Score\n",
       "0          heart  positive     60\n",
       "1           want  positive     70\n",
       "2        disgust  negative      0\n",
       "3           hate  negative      5\n",
       "4     interested  positive     30\n",
       "5    indifferent   neutral     20\n",
       "6           love  positive     65\n",
       "7     super love  positive     75\n",
       "8        cherish  positive     70\n",
       "9          adore  positive     72\n",
       "10          like  positive     50\n",
       "11       dislike  negative     10\n",
       "12     intrigued  positive     45\n",
       "13       peeking   neutral     35\n",
       "14        scared  negative     15\n",
       "15       worried  negative     12"
      ]
     },
     "execution_count": 36,
     "metadata": {},
     "output_type": "execute_result"
    }
   ],
   "source": [
    "df_reaction_type"
   ]
  },
  {
   "cell_type": "code",
   "execution_count": 37,
   "id": "4fe22c9a",
   "metadata": {
    "ExecuteTime": {
     "end_time": "2023-10-30T13:56:10.984745Z",
     "start_time": "2023-10-30T13:56:10.972471Z"
    }
   },
   "outputs": [
    {
     "name": "stdout",
     "output_type": "stream",
     "text": [
      "<class 'pandas.core.frame.DataFrame'>\n",
      "RangeIndex: 16 entries, 0 to 15\n",
      "Data columns (total 3 columns):\n",
      " #   Column         Non-Null Count  Dtype   \n",
      "---  ------         --------------  -----   \n",
      " 0   Reaction Type  16 non-null     category\n",
      " 1   Sentiment      16 non-null     category\n",
      " 2   Score          16 non-null     int64   \n",
      "dtypes: category(2), int64(1)\n",
      "memory usage: 1.1 KB\n"
     ]
    }
   ],
   "source": [
    "df_reaction_type[['Reaction Type', 'Sentiment']] = df_reaction_type[['Reaction Type', 'Sentiment']].astype('category')\n",
    "df_reaction_type.info()"
   ]
  },
  {
   "cell_type": "markdown",
   "id": "82313ea9",
   "metadata": {},
   "source": [
    "### 4. Create a final data set by merging three tables together"
   ]
  },
  {
   "cell_type": "code",
   "execution_count": 38,
   "id": "8532ecd2",
   "metadata": {
    "ExecuteTime": {
     "end_time": "2023-10-30T13:56:10.991340Z",
     "start_time": "2023-10-30T13:56:10.987071Z"
    }
   },
   "outputs": [
    {
     "data": {
      "text/plain": [
       "Index(['Content ID', 'Content Type', 'Category'], dtype='object')"
      ]
     },
     "execution_count": 38,
     "metadata": {},
     "output_type": "execute_result"
    }
   ],
   "source": [
    "df_content.columns"
   ]
  },
  {
   "cell_type": "code",
   "execution_count": 39,
   "id": "6f1e0576",
   "metadata": {
    "ExecuteTime": {
     "end_time": "2023-10-30T13:56:10.998254Z",
     "start_time": "2023-10-30T13:56:10.993801Z"
    }
   },
   "outputs": [
    {
     "data": {
      "text/plain": [
       "Index(['Content ID', 'Reaction Type', 'Datetime', 'Reaction ~Type'], dtype='object')"
      ]
     },
     "execution_count": 39,
     "metadata": {},
     "output_type": "execute_result"
    }
   ],
   "source": [
    "df_reactions.columns"
   ]
  },
  {
   "cell_type": "code",
   "execution_count": 40,
   "id": "67ae13c9",
   "metadata": {
    "ExecuteTime": {
     "end_time": "2023-10-30T13:56:11.006798Z",
     "start_time": "2023-10-30T13:56:11.001074Z"
    }
   },
   "outputs": [
    {
     "data": {
      "text/plain": [
       "Index(['Reaction Type', 'Sentiment', 'Score'], dtype='object')"
      ]
     },
     "execution_count": 40,
     "metadata": {},
     "output_type": "execute_result"
    }
   ],
   "source": [
    "df_reaction_type.columns"
   ]
  },
  {
   "cell_type": "code",
   "execution_count": 41,
   "id": "ae7fd7de",
   "metadata": {
    "ExecuteTime": {
     "end_time": "2023-10-30T13:56:11.046959Z",
     "start_time": "2023-10-30T13:56:11.008693Z"
    }
   },
   "outputs": [
    {
     "data": {
      "text/html": [
       "<div>\n",
       "<style scoped>\n",
       "    .dataframe tbody tr th:only-of-type {\n",
       "        vertical-align: middle;\n",
       "    }\n",
       "\n",
       "    .dataframe tbody tr th {\n",
       "        vertical-align: top;\n",
       "    }\n",
       "\n",
       "    .dataframe thead th {\n",
       "        text-align: right;\n",
       "    }\n",
       "</style>\n",
       "<table border=\"1\" class=\"dataframe\">\n",
       "  <thead>\n",
       "    <tr style=\"text-align: right;\">\n",
       "      <th></th>\n",
       "      <th>Content ID</th>\n",
       "      <th>Reaction Type</th>\n",
       "      <th>Datetime</th>\n",
       "      <th>Reaction ~Type</th>\n",
       "      <th>Content Type</th>\n",
       "      <th>Category</th>\n",
       "      <th>Sentiment</th>\n",
       "      <th>Score</th>\n",
       "    </tr>\n",
       "  </thead>\n",
       "  <tbody>\n",
       "    <tr>\n",
       "      <th>0</th>\n",
       "      <td>97522e57-d9ab-4bd6-97bf-c24d952602d2</td>\n",
       "      <td>disgust</td>\n",
       "      <td>2020-11-07 09:43:50</td>\n",
       "      <td>disgust</td>\n",
       "      <td>photo</td>\n",
       "      <td>Studying</td>\n",
       "      <td>negative</td>\n",
       "      <td>0</td>\n",
       "    </tr>\n",
       "    <tr>\n",
       "      <th>1</th>\n",
       "      <td>97522e57-d9ab-4bd6-97bf-c24d952602d2</td>\n",
       "      <td>dislike</td>\n",
       "      <td>2021-06-17 12:22:51</td>\n",
       "      <td>dislike</td>\n",
       "      <td>photo</td>\n",
       "      <td>Studying</td>\n",
       "      <td>negative</td>\n",
       "      <td>10</td>\n",
       "    </tr>\n",
       "    <tr>\n",
       "      <th>2</th>\n",
       "      <td>97522e57-d9ab-4bd6-97bf-c24d952602d2</td>\n",
       "      <td>scared</td>\n",
       "      <td>2021-04-18 05:13:58</td>\n",
       "      <td>scared</td>\n",
       "      <td>photo</td>\n",
       "      <td>Studying</td>\n",
       "      <td>negative</td>\n",
       "      <td>15</td>\n",
       "    </tr>\n",
       "    <tr>\n",
       "      <th>3</th>\n",
       "      <td>97522e57-d9ab-4bd6-97bf-c24d952602d2</td>\n",
       "      <td>disgust</td>\n",
       "      <td>2021-01-06 19:13:01</td>\n",
       "      <td>disgust</td>\n",
       "      <td>photo</td>\n",
       "      <td>Studying</td>\n",
       "      <td>negative</td>\n",
       "      <td>0</td>\n",
       "    </tr>\n",
       "    <tr>\n",
       "      <th>4</th>\n",
       "      <td>97522e57-d9ab-4bd6-97bf-c24d952602d2</td>\n",
       "      <td>interested</td>\n",
       "      <td>2020-08-23 12:25:58</td>\n",
       "      <td>interested</td>\n",
       "      <td>photo</td>\n",
       "      <td>Studying</td>\n",
       "      <td>positive</td>\n",
       "      <td>30</td>\n",
       "    </tr>\n",
       "  </tbody>\n",
       "</table>\n",
       "</div>"
      ],
      "text/plain": [
       "                             Content ID Reaction Type            Datetime  \\\n",
       "0  97522e57-d9ab-4bd6-97bf-c24d952602d2       disgust 2020-11-07 09:43:50   \n",
       "1  97522e57-d9ab-4bd6-97bf-c24d952602d2       dislike 2021-06-17 12:22:51   \n",
       "2  97522e57-d9ab-4bd6-97bf-c24d952602d2        scared 2021-04-18 05:13:58   \n",
       "3  97522e57-d9ab-4bd6-97bf-c24d952602d2       disgust 2021-01-06 19:13:01   \n",
       "4  97522e57-d9ab-4bd6-97bf-c24d952602d2    interested 2020-08-23 12:25:58   \n",
       "\n",
       "  Reaction ~Type Content Type  Category Sentiment  Score  \n",
       "0        disgust        photo  Studying  negative      0  \n",
       "1        dislike        photo  Studying  negative     10  \n",
       "2         scared        photo  Studying  negative     15  \n",
       "3        disgust        photo  Studying  negative      0  \n",
       "4     interested        photo  Studying  positive     30  "
      ]
     },
     "execution_count": 41,
     "metadata": {},
     "output_type": "execute_result"
    }
   ],
   "source": [
    "# Joining the relevant columns from the 'Content' dataset\n",
    "df_reactions = pd.merge(df_reactions, df_content[['Content ID', 'Content Type', 'Category']], on='Content ID', how='left')\n",
    "\n",
    "# Joining the 'Reaction Types' dataset\n",
    "df_reactions = pd.merge(df_reactions, df_reaction_type, on='Reaction Type', how='left')\n",
    "\n",
    "# Printing the updated table\n",
    "df_reactions.head()"
   ]
  },
  {
   "cell_type": "code",
   "execution_count": 42,
   "id": "28555b2c",
   "metadata": {
    "ExecuteTime": {
     "end_time": "2023-10-30T13:56:11.051377Z",
     "start_time": "2023-10-30T13:56:11.048938Z"
    }
   },
   "outputs": [],
   "source": [
    "# Assuming you have joined the relevant columns from 'Content' and 'Reaction Types' datasets into 'Reactions'\n",
    "df = df_reactions  # Assigning the joined DataFrame to 'df'\n"
   ]
  },
  {
   "cell_type": "markdown",
   "id": "4d9c250e",
   "metadata": {},
   "source": [
    "### 5. Figure out the Top 5 performing categories"
   ]
  },
  {
   "cell_type": "code",
   "execution_count": 43,
   "id": "3f717657",
   "metadata": {
    "ExecuteTime": {
     "end_time": "2023-10-30T13:56:11.059065Z",
     "start_time": "2023-10-30T13:56:11.053309Z"
    }
   },
   "outputs": [
    {
     "name": "stdout",
     "output_type": "stream",
     "text": [
      "Top 5 Performing Categories:\n",
      "Category\n",
      "Animals           74965\n",
      "Science           71168\n",
      "Healthy eating    69339\n",
      "Technology        68738\n",
      "Food              66676\n",
      "Name: Score, dtype: int64\n"
     ]
    }
   ],
   "source": [
    "# Grouping by 'Category' and calculating the sum of 'Score' for each category\n",
    "category_scores = df.groupby('Category')['Score'].sum()\n",
    "\n",
    "# Sorting the category scores in descending order\n",
    "sorted_categories = category_scores.sort_values(ascending=False)\n",
    "\n",
    "# Selecting the top 5 performing categories\n",
    "top_categories = sorted_categories.head(5)\n",
    "\n",
    "# Printing the top 5 performing categories\n",
    "print(\"Top 5 Performing Categories:\")\n",
    "print(top_categories)"
   ]
  },
  {
   "cell_type": "markdown",
   "id": "578ec0a7",
   "metadata": {},
   "source": [
    "### 6. Descriptive Analysis"
   ]
  },
  {
   "cell_type": "code",
   "execution_count": 44,
   "id": "690c0d9e",
   "metadata": {
    "ExecuteTime": {
     "end_time": "2023-10-30T13:56:11.092254Z",
     "start_time": "2023-10-30T13:56:11.060852Z"
    }
   },
   "outputs": [
    {
     "data": {
      "text/html": [
       "<div>\n",
       "<style scoped>\n",
       "    .dataframe tbody tr th:only-of-type {\n",
       "        vertical-align: middle;\n",
       "    }\n",
       "\n",
       "    .dataframe tbody tr th {\n",
       "        vertical-align: top;\n",
       "    }\n",
       "\n",
       "    .dataframe thead th {\n",
       "        text-align: right;\n",
       "    }\n",
       "</style>\n",
       "<table border=\"1\" class=\"dataframe\">\n",
       "  <thead>\n",
       "    <tr style=\"text-align: right;\">\n",
       "      <th></th>\n",
       "      <th>Content ID</th>\n",
       "      <th>Reaction Type</th>\n",
       "      <th>Datetime</th>\n",
       "      <th>Reaction ~Type</th>\n",
       "      <th>Content Type</th>\n",
       "      <th>Category</th>\n",
       "      <th>Sentiment</th>\n",
       "      <th>Score</th>\n",
       "    </tr>\n",
       "  </thead>\n",
       "  <tbody>\n",
       "    <tr>\n",
       "      <th>count</th>\n",
       "      <td>24573</td>\n",
       "      <td>24573</td>\n",
       "      <td>24573</td>\n",
       "      <td>24573</td>\n",
       "      <td>24573</td>\n",
       "      <td>24573</td>\n",
       "      <td>24573</td>\n",
       "      <td>24573.000000</td>\n",
       "    </tr>\n",
       "    <tr>\n",
       "      <th>unique</th>\n",
       "      <td>962</td>\n",
       "      <td>16</td>\n",
       "      <td>24562</td>\n",
       "      <td>16</td>\n",
       "      <td>4</td>\n",
       "      <td>16</td>\n",
       "      <td>3</td>\n",
       "      <td>NaN</td>\n",
       "    </tr>\n",
       "    <tr>\n",
       "      <th>top</th>\n",
       "      <td>5bb364a6-8646-4cdb-b1cf-09f4125718d8</td>\n",
       "      <td>heart</td>\n",
       "      <td>2020-11-01 00:05:07</td>\n",
       "      <td>heart</td>\n",
       "      <td>photo</td>\n",
       "      <td>Animals</td>\n",
       "      <td>positive</td>\n",
       "      <td>NaN</td>\n",
       "    </tr>\n",
       "    <tr>\n",
       "      <th>freq</th>\n",
       "      <td>48</td>\n",
       "      <td>1622</td>\n",
       "      <td>2</td>\n",
       "      <td>1622</td>\n",
       "      <td>6589</td>\n",
       "      <td>1897</td>\n",
       "      <td>13807</td>\n",
       "      <td>NaN</td>\n",
       "    </tr>\n",
       "    <tr>\n",
       "      <th>first</th>\n",
       "      <td>NaN</td>\n",
       "      <td>NaN</td>\n",
       "      <td>2020-06-18 08:07:22</td>\n",
       "      <td>NaN</td>\n",
       "      <td>NaN</td>\n",
       "      <td>NaN</td>\n",
       "      <td>NaN</td>\n",
       "      <td>NaN</td>\n",
       "    </tr>\n",
       "    <tr>\n",
       "      <th>last</th>\n",
       "      <td>NaN</td>\n",
       "      <td>NaN</td>\n",
       "      <td>2021-06-18 08:30:29</td>\n",
       "      <td>NaN</td>\n",
       "      <td>NaN</td>\n",
       "      <td>NaN</td>\n",
       "      <td>NaN</td>\n",
       "      <td>NaN</td>\n",
       "    </tr>\n",
       "    <tr>\n",
       "      <th>mean</th>\n",
       "      <td>NaN</td>\n",
       "      <td>NaN</td>\n",
       "      <td>NaN</td>\n",
       "      <td>NaN</td>\n",
       "      <td>NaN</td>\n",
       "      <td>NaN</td>\n",
       "      <td>NaN</td>\n",
       "      <td>39.622553</td>\n",
       "    </tr>\n",
       "    <tr>\n",
       "      <th>std</th>\n",
       "      <td>NaN</td>\n",
       "      <td>NaN</td>\n",
       "      <td>NaN</td>\n",
       "      <td>NaN</td>\n",
       "      <td>NaN</td>\n",
       "      <td>NaN</td>\n",
       "      <td>NaN</td>\n",
       "      <td>26.043011</td>\n",
       "    </tr>\n",
       "    <tr>\n",
       "      <th>min</th>\n",
       "      <td>NaN</td>\n",
       "      <td>NaN</td>\n",
       "      <td>NaN</td>\n",
       "      <td>NaN</td>\n",
       "      <td>NaN</td>\n",
       "      <td>NaN</td>\n",
       "      <td>NaN</td>\n",
       "      <td>0.000000</td>\n",
       "    </tr>\n",
       "    <tr>\n",
       "      <th>25%</th>\n",
       "      <td>NaN</td>\n",
       "      <td>NaN</td>\n",
       "      <td>NaN</td>\n",
       "      <td>NaN</td>\n",
       "      <td>NaN</td>\n",
       "      <td>NaN</td>\n",
       "      <td>NaN</td>\n",
       "      <td>15.000000</td>\n",
       "    </tr>\n",
       "    <tr>\n",
       "      <th>50%</th>\n",
       "      <td>NaN</td>\n",
       "      <td>NaN</td>\n",
       "      <td>NaN</td>\n",
       "      <td>NaN</td>\n",
       "      <td>NaN</td>\n",
       "      <td>NaN</td>\n",
       "      <td>NaN</td>\n",
       "      <td>35.000000</td>\n",
       "    </tr>\n",
       "    <tr>\n",
       "      <th>75%</th>\n",
       "      <td>NaN</td>\n",
       "      <td>NaN</td>\n",
       "      <td>NaN</td>\n",
       "      <td>NaN</td>\n",
       "      <td>NaN</td>\n",
       "      <td>NaN</td>\n",
       "      <td>NaN</td>\n",
       "      <td>65.000000</td>\n",
       "    </tr>\n",
       "    <tr>\n",
       "      <th>max</th>\n",
       "      <td>NaN</td>\n",
       "      <td>NaN</td>\n",
       "      <td>NaN</td>\n",
       "      <td>NaN</td>\n",
       "      <td>NaN</td>\n",
       "      <td>NaN</td>\n",
       "      <td>NaN</td>\n",
       "      <td>75.000000</td>\n",
       "    </tr>\n",
       "  </tbody>\n",
       "</table>\n",
       "</div>"
      ],
      "text/plain": [
       "                                  Content ID Reaction Type  \\\n",
       "count                                  24573         24573   \n",
       "unique                                   962            16   \n",
       "top     5bb364a6-8646-4cdb-b1cf-09f4125718d8         heart   \n",
       "freq                                      48          1622   \n",
       "first                                    NaN           NaN   \n",
       "last                                     NaN           NaN   \n",
       "mean                                     NaN           NaN   \n",
       "std                                      NaN           NaN   \n",
       "min                                      NaN           NaN   \n",
       "25%                                      NaN           NaN   \n",
       "50%                                      NaN           NaN   \n",
       "75%                                      NaN           NaN   \n",
       "max                                      NaN           NaN   \n",
       "\n",
       "                   Datetime Reaction ~Type Content Type Category Sentiment  \\\n",
       "count                 24573          24573        24573    24573     24573   \n",
       "unique                24562             16            4       16         3   \n",
       "top     2020-11-01 00:05:07          heart        photo  Animals  positive   \n",
       "freq                      2           1622         6589     1897     13807   \n",
       "first   2020-06-18 08:07:22            NaN          NaN      NaN       NaN   \n",
       "last    2021-06-18 08:30:29            NaN          NaN      NaN       NaN   \n",
       "mean                    NaN            NaN          NaN      NaN       NaN   \n",
       "std                     NaN            NaN          NaN      NaN       NaN   \n",
       "min                     NaN            NaN          NaN      NaN       NaN   \n",
       "25%                     NaN            NaN          NaN      NaN       NaN   \n",
       "50%                     NaN            NaN          NaN      NaN       NaN   \n",
       "75%                     NaN            NaN          NaN      NaN       NaN   \n",
       "max                     NaN            NaN          NaN      NaN       NaN   \n",
       "\n",
       "               Score  \n",
       "count   24573.000000  \n",
       "unique           NaN  \n",
       "top              NaN  \n",
       "freq             NaN  \n",
       "first            NaN  \n",
       "last             NaN  \n",
       "mean       39.622553  \n",
       "std        26.043011  \n",
       "min         0.000000  \n",
       "25%        15.000000  \n",
       "50%        35.000000  \n",
       "75%        65.000000  \n",
       "max        75.000000  "
      ]
     },
     "execution_count": 44,
     "metadata": {},
     "output_type": "execute_result"
    }
   ],
   "source": [
    "df.describe(include='all')"
   ]
  },
  {
   "cell_type": "code",
   "execution_count": 45,
   "id": "17f936bb",
   "metadata": {
    "ExecuteTime": {
     "end_time": "2023-10-30T13:56:11.098669Z",
     "start_time": "2023-10-30T13:56:11.094766Z"
    }
   },
   "outputs": [],
   "source": [
    "# Dropping 'Reaction ~Type' columns\n",
    "df = df.drop(['Reaction ~Type'], axis=1)"
   ]
  },
  {
   "cell_type": "code",
   "execution_count": 46,
   "id": "b499208b",
   "metadata": {
    "ExecuteTime": {
     "end_time": "2023-10-30T13:56:11.126541Z",
     "start_time": "2023-10-30T13:56:11.100980Z"
    }
   },
   "outputs": [
    {
     "data": {
      "text/html": [
       "<div>\n",
       "<style scoped>\n",
       "    .dataframe tbody tr th:only-of-type {\n",
       "        vertical-align: middle;\n",
       "    }\n",
       "\n",
       "    .dataframe tbody tr th {\n",
       "        vertical-align: top;\n",
       "    }\n",
       "\n",
       "    .dataframe thead th {\n",
       "        text-align: right;\n",
       "    }\n",
       "</style>\n",
       "<table border=\"1\" class=\"dataframe\">\n",
       "  <thead>\n",
       "    <tr style=\"text-align: right;\">\n",
       "      <th></th>\n",
       "      <th>Content ID</th>\n",
       "      <th>Reaction Type</th>\n",
       "      <th>Datetime</th>\n",
       "      <th>Content Type</th>\n",
       "      <th>Category</th>\n",
       "      <th>Sentiment</th>\n",
       "      <th>Score</th>\n",
       "    </tr>\n",
       "  </thead>\n",
       "  <tbody>\n",
       "    <tr>\n",
       "      <th>count</th>\n",
       "      <td>24573</td>\n",
       "      <td>24573</td>\n",
       "      <td>24573</td>\n",
       "      <td>24573</td>\n",
       "      <td>24573</td>\n",
       "      <td>24573</td>\n",
       "      <td>24573.000000</td>\n",
       "    </tr>\n",
       "    <tr>\n",
       "      <th>unique</th>\n",
       "      <td>962</td>\n",
       "      <td>16</td>\n",
       "      <td>24562</td>\n",
       "      <td>4</td>\n",
       "      <td>16</td>\n",
       "      <td>3</td>\n",
       "      <td>NaN</td>\n",
       "    </tr>\n",
       "    <tr>\n",
       "      <th>top</th>\n",
       "      <td>5bb364a6-8646-4cdb-b1cf-09f4125718d8</td>\n",
       "      <td>heart</td>\n",
       "      <td>2020-11-01 00:05:07</td>\n",
       "      <td>photo</td>\n",
       "      <td>Animals</td>\n",
       "      <td>positive</td>\n",
       "      <td>NaN</td>\n",
       "    </tr>\n",
       "    <tr>\n",
       "      <th>freq</th>\n",
       "      <td>48</td>\n",
       "      <td>1622</td>\n",
       "      <td>2</td>\n",
       "      <td>6589</td>\n",
       "      <td>1897</td>\n",
       "      <td>13807</td>\n",
       "      <td>NaN</td>\n",
       "    </tr>\n",
       "    <tr>\n",
       "      <th>first</th>\n",
       "      <td>NaN</td>\n",
       "      <td>NaN</td>\n",
       "      <td>2020-06-18 08:07:22</td>\n",
       "      <td>NaN</td>\n",
       "      <td>NaN</td>\n",
       "      <td>NaN</td>\n",
       "      <td>NaN</td>\n",
       "    </tr>\n",
       "    <tr>\n",
       "      <th>last</th>\n",
       "      <td>NaN</td>\n",
       "      <td>NaN</td>\n",
       "      <td>2021-06-18 08:30:29</td>\n",
       "      <td>NaN</td>\n",
       "      <td>NaN</td>\n",
       "      <td>NaN</td>\n",
       "      <td>NaN</td>\n",
       "    </tr>\n",
       "    <tr>\n",
       "      <th>mean</th>\n",
       "      <td>NaN</td>\n",
       "      <td>NaN</td>\n",
       "      <td>NaN</td>\n",
       "      <td>NaN</td>\n",
       "      <td>NaN</td>\n",
       "      <td>NaN</td>\n",
       "      <td>39.622553</td>\n",
       "    </tr>\n",
       "    <tr>\n",
       "      <th>std</th>\n",
       "      <td>NaN</td>\n",
       "      <td>NaN</td>\n",
       "      <td>NaN</td>\n",
       "      <td>NaN</td>\n",
       "      <td>NaN</td>\n",
       "      <td>NaN</td>\n",
       "      <td>26.043011</td>\n",
       "    </tr>\n",
       "    <tr>\n",
       "      <th>min</th>\n",
       "      <td>NaN</td>\n",
       "      <td>NaN</td>\n",
       "      <td>NaN</td>\n",
       "      <td>NaN</td>\n",
       "      <td>NaN</td>\n",
       "      <td>NaN</td>\n",
       "      <td>0.000000</td>\n",
       "    </tr>\n",
       "    <tr>\n",
       "      <th>25%</th>\n",
       "      <td>NaN</td>\n",
       "      <td>NaN</td>\n",
       "      <td>NaN</td>\n",
       "      <td>NaN</td>\n",
       "      <td>NaN</td>\n",
       "      <td>NaN</td>\n",
       "      <td>15.000000</td>\n",
       "    </tr>\n",
       "    <tr>\n",
       "      <th>50%</th>\n",
       "      <td>NaN</td>\n",
       "      <td>NaN</td>\n",
       "      <td>NaN</td>\n",
       "      <td>NaN</td>\n",
       "      <td>NaN</td>\n",
       "      <td>NaN</td>\n",
       "      <td>35.000000</td>\n",
       "    </tr>\n",
       "    <tr>\n",
       "      <th>75%</th>\n",
       "      <td>NaN</td>\n",
       "      <td>NaN</td>\n",
       "      <td>NaN</td>\n",
       "      <td>NaN</td>\n",
       "      <td>NaN</td>\n",
       "      <td>NaN</td>\n",
       "      <td>65.000000</td>\n",
       "    </tr>\n",
       "    <tr>\n",
       "      <th>max</th>\n",
       "      <td>NaN</td>\n",
       "      <td>NaN</td>\n",
       "      <td>NaN</td>\n",
       "      <td>NaN</td>\n",
       "      <td>NaN</td>\n",
       "      <td>NaN</td>\n",
       "      <td>75.000000</td>\n",
       "    </tr>\n",
       "  </tbody>\n",
       "</table>\n",
       "</div>"
      ],
      "text/plain": [
       "                                  Content ID Reaction Type  \\\n",
       "count                                  24573         24573   \n",
       "unique                                   962            16   \n",
       "top     5bb364a6-8646-4cdb-b1cf-09f4125718d8         heart   \n",
       "freq                                      48          1622   \n",
       "first                                    NaN           NaN   \n",
       "last                                     NaN           NaN   \n",
       "mean                                     NaN           NaN   \n",
       "std                                      NaN           NaN   \n",
       "min                                      NaN           NaN   \n",
       "25%                                      NaN           NaN   \n",
       "50%                                      NaN           NaN   \n",
       "75%                                      NaN           NaN   \n",
       "max                                      NaN           NaN   \n",
       "\n",
       "                   Datetime Content Type Category Sentiment         Score  \n",
       "count                 24573        24573    24573     24573  24573.000000  \n",
       "unique                24562            4       16         3           NaN  \n",
       "top     2020-11-01 00:05:07        photo  Animals  positive           NaN  \n",
       "freq                      2         6589     1897     13807           NaN  \n",
       "first   2020-06-18 08:07:22          NaN      NaN       NaN           NaN  \n",
       "last    2021-06-18 08:30:29          NaN      NaN       NaN           NaN  \n",
       "mean                    NaN          NaN      NaN       NaN     39.622553  \n",
       "std                     NaN          NaN      NaN       NaN     26.043011  \n",
       "min                     NaN          NaN      NaN       NaN      0.000000  \n",
       "25%                     NaN          NaN      NaN       NaN     15.000000  \n",
       "50%                     NaN          NaN      NaN       NaN     35.000000  \n",
       "75%                     NaN          NaN      NaN       NaN     65.000000  \n",
       "max                     NaN          NaN      NaN       NaN     75.000000  "
      ]
     },
     "execution_count": 46,
     "metadata": {},
     "output_type": "execute_result"
    }
   ],
   "source": [
    "df.describe(include='all')"
   ]
  },
  {
   "cell_type": "code",
   "execution_count": 47,
   "id": "2ee842ad",
   "metadata": {
    "ExecuteTime": {
     "end_time": "2023-10-30T13:56:11.140537Z",
     "start_time": "2023-10-30T13:56:11.129040Z"
    }
   },
   "outputs": [
    {
     "data": {
      "text/html": [
       "<div>\n",
       "<style scoped>\n",
       "    .dataframe tbody tr th:only-of-type {\n",
       "        vertical-align: middle;\n",
       "    }\n",
       "\n",
       "    .dataframe tbody tr th {\n",
       "        vertical-align: top;\n",
       "    }\n",
       "\n",
       "    .dataframe thead th {\n",
       "        text-align: right;\n",
       "    }\n",
       "</style>\n",
       "<table border=\"1\" class=\"dataframe\">\n",
       "  <thead>\n",
       "    <tr style=\"text-align: right;\">\n",
       "      <th></th>\n",
       "      <th>Datetime</th>\n",
       "      <th>Score</th>\n",
       "    </tr>\n",
       "  </thead>\n",
       "  <tbody>\n",
       "    <tr>\n",
       "      <th>count</th>\n",
       "      <td>24573</td>\n",
       "      <td>24573.000000</td>\n",
       "    </tr>\n",
       "    <tr>\n",
       "      <th>mean</th>\n",
       "      <td>2020-12-17 06:35:24.454278912</td>\n",
       "      <td>39.622553</td>\n",
       "    </tr>\n",
       "    <tr>\n",
       "      <th>min</th>\n",
       "      <td>2020-06-18 08:07:22</td>\n",
       "      <td>0.000000</td>\n",
       "    </tr>\n",
       "    <tr>\n",
       "      <th>25%</th>\n",
       "      <td>2020-09-16 18:51:38</td>\n",
       "      <td>15.000000</td>\n",
       "    </tr>\n",
       "    <tr>\n",
       "      <th>50%</th>\n",
       "      <td>2020-12-17 06:08:30</td>\n",
       "      <td>35.000000</td>\n",
       "    </tr>\n",
       "    <tr>\n",
       "      <th>75%</th>\n",
       "      <td>2021-03-17 12:05:06</td>\n",
       "      <td>65.000000</td>\n",
       "    </tr>\n",
       "    <tr>\n",
       "      <th>max</th>\n",
       "      <td>2021-06-18 08:30:29</td>\n",
       "      <td>75.000000</td>\n",
       "    </tr>\n",
       "    <tr>\n",
       "      <th>std</th>\n",
       "      <td>NaN</td>\n",
       "      <td>26.043011</td>\n",
       "    </tr>\n",
       "  </tbody>\n",
       "</table>\n",
       "</div>"
      ],
      "text/plain": [
       "                            Datetime         Score\n",
       "count                          24573  24573.000000\n",
       "mean   2020-12-17 06:35:24.454278912     39.622553\n",
       "min              2020-06-18 08:07:22      0.000000\n",
       "25%              2020-09-16 18:51:38     15.000000\n",
       "50%              2020-12-17 06:08:30     35.000000\n",
       "75%              2021-03-17 12:05:06     65.000000\n",
       "max              2021-06-18 08:30:29     75.000000\n",
       "std                              NaN     26.043011"
      ]
     },
     "execution_count": 47,
     "metadata": {},
     "output_type": "execute_result"
    }
   ],
   "source": [
    "df.describe(datetime_is_numeric=True)"
   ]
  },
  {
   "cell_type": "markdown",
   "id": "526c5758",
   "metadata": {},
   "source": [
    "#### Insights of Descriptive Analysis\n",
    "\n",
    "The dataset consists of 24,573 unique values. The data spans from June 18, 2020, to June 18, 2021.\n",
    "\n",
    "The maximum score observed is 75, with an average score of 39.622.\n",
    "\n",
    "There are four unique content types: photo, video, audio, and Gif.\n",
    "\n",
    "The category column has 16 unique categories, while the Reaction Type column has 16 unique types, Sentiments 3 types.\n",
    "\n",
    "The dataset comprises 24,573 rows and 7 columns.\n"
   ]
  },
  {
   "cell_type": "markdown",
   "id": "8d898750",
   "metadata": {},
   "source": [
    "### 7. Content Analysis:"
   ]
  },
  {
   "cell_type": "code",
   "execution_count": 48,
   "id": "2b6e86c5",
   "metadata": {
    "ExecuteTime": {
     "end_time": "2023-10-30T13:56:11.250748Z",
     "start_time": "2023-10-30T13:56:11.142581Z"
    }
   },
   "outputs": [
    {
     "data": {
      "image/png": "[encoded data removed]",
      "text/plain": [
       "<Figure size 640x480 with 1 Axes>"
      ]
     },
     "metadata": {},
     "output_type": "display_data"
    }
   ],
   "source": [
    "content_type_counts = df['Content Type'].value_counts()\n",
    "plt.pie(content_type_counts.values, labels=content_type_counts.index, autopct='%1.1f%%')\n",
    "plt.title('Distribution of Content Types')\n",
    "plt.show()"
   ]
  },
  {
   "cell_type": "markdown",
   "id": "40b11d22",
   "metadata": {},
   "source": [
    "#### Insights of Content Analysis\n",
    "The highest percentage of content is related to photos, accounting for 26.8% of the total.\n",
    "\n",
    "The lowest percentage of content is related to audio, accounting for 23.0% of the total.\n",
    "\n",
    "The content types, listed in ascending order based on their prevalence, are audio, Gif, video, and photo."
   ]
  },
  {
   "cell_type": "markdown",
   "id": "393c0256",
   "metadata": {},
   "source": [
    "### 8. Reaction Type Analysis:"
   ]
  },
  {
   "cell_type": "code",
   "execution_count": 49,
   "id": "7eed7d13",
   "metadata": {
    "ExecuteTime": {
     "end_time": "2023-10-30T13:56:11.458415Z",
     "start_time": "2023-10-30T13:56:11.252644Z"
    },
    "scrolled": true
   },
   "outputs": [
    {
     "data": {
      "image/png": "[encoded data removed]",
      "text/plain": [
       "<Figure size 640x480 with 1 Axes>"
      ]
     },
     "metadata": {},
     "output_type": "display_data"
    }
   ],
   "source": [
    "reaction_counts = df['Reaction Type'].value_counts()\n",
    "plt.bar(reaction_counts.index, reaction_counts.values)\n",
    "plt.xlabel('Reaction Types')\n",
    "plt.ylabel('Count')\n",
    "plt.title('Distribution of Reaction Types')\n",
    "plt.xticks(rotation=45)  # Rotate x-axis labels by 45 degrees\n",
    "plt.show()"
   ]
  },
  {
   "cell_type": "markdown",
   "id": "1c410cd2",
   "metadata": {},
   "source": [
    "#### Insights Reaction Type\n",
    "The most commonly used reaction by people is the \"Heart\" reaction.\n",
    "\n",
    "The top three reactions based on frequency are \"Heart,\" \"Scared,\" and \"Peeking.\"\n",
    "\n",
    "The least three reactions based on frequency are \"Cherish,\" \"Worried,\" and \"Intrigued.\""
   ]
  },
  {
   "cell_type": "markdown",
   "id": "ee35467b",
   "metadata": {},
   "source": [
    "### 9. Temporal Analysis:(Weekly and Monthly bases)"
   ]
  },
  {
   "cell_type": "code",
   "execution_count": 50,
   "id": "7d4e1aff",
   "metadata": {
    "ExecuteTime": {
     "end_time": "2023-10-30T13:56:11.464144Z",
     "start_time": "2023-10-30T13:56:11.460783Z"
    }
   },
   "outputs": [],
   "source": [
    "# Set the Datetime column as the index of the dataframe using set_index() function.\n",
    "df.set_index('Datetime', inplace=True)"
   ]
  },
  {
   "cell_type": "code",
   "execution_count": 51,
   "id": "6c828b34",
   "metadata": {
    "ExecuteTime": {
     "end_time": "2023-10-30T13:56:11.491739Z",
     "start_time": "2023-10-30T13:56:11.466090Z"
    }
   },
   "outputs": [],
   "source": [
    "# Use the resample() method to aggregate the data based on different time intervals such as weekly.\n",
    "weekly_data = df.resample('W').count()"
   ]
  },
  {
   "cell_type": "code",
   "execution_count": 52,
   "id": "22c4c841",
   "metadata": {
    "ExecuteTime": {
     "end_time": "2023-10-30T13:56:11.720095Z",
     "start_time": "2023-10-30T13:56:11.493771Z"
    },
    "scrolled": false
   },
   "outputs": [
    {
     "data": {
      "image/png": "[encoded data removed]",
      "text/plain": [
       "<Figure size 640x480 with 1 Axes>"
      ]
     },
     "metadata": {},
     "output_type": "display_data"
    }
   ],
   "source": [
    "# Assuming you have resampled weekly data stored in 'weekly_data' dataframe\n",
    "plt.plot(weekly_data.index, weekly_data['Content ID'])\n",
    "plt.xlabel('Date')\n",
    "plt.ylabel('Count')\n",
    "plt.title('Social Buzz over Time (Weekly)')\n",
    "plt.show()"
   ]
  },
  {
   "cell_type": "code",
   "execution_count": 53,
   "id": "0411cffb",
   "metadata": {
    "ExecuteTime": {
     "end_time": "2023-10-30T13:56:11.725856Z",
     "start_time": "2023-10-30T13:56:11.722035Z"
    }
   },
   "outputs": [
    {
     "data": {
      "text/plain": [
       "Index(['Content ID', 'Reaction Type', 'Content Type', 'Category', 'Sentiment',\n",
       "       'Score'],\n",
       "      dtype='object')"
      ]
     },
     "execution_count": 53,
     "metadata": {},
     "output_type": "execute_result"
    }
   ],
   "source": [
    "df.columns"
   ]
  },
  {
   "cell_type": "code",
   "execution_count": 54,
   "id": "dd1c75cf",
   "metadata": {
    "ExecuteTime": {
     "end_time": "2023-10-30T13:56:11.746332Z",
     "start_time": "2023-10-30T13:56:11.727537Z"
    }
   },
   "outputs": [],
   "source": [
    "monthly_data = df.resample('M').count()"
   ]
  },
  {
   "cell_type": "code",
   "execution_count": 55,
   "id": "073a63c9",
   "metadata": {
    "ExecuteTime": {
     "end_time": "2023-10-30T13:56:11.931150Z",
     "start_time": "2023-10-30T13:56:11.748557Z"
    },
    "scrolled": false
   },
   "outputs": [
    {
     "data": {
      "image/png": "[encoded data removed]",
      "text/plain": [
       "<Figure size 640x480 with 1 Axes>"
      ]
     },
     "metadata": {},
     "output_type": "display_data"
    }
   ],
   "source": [
    "# Assuming you have resampled monthly data stored in 'monthly_data' dataframe\n",
    "plt.plot(monthly_data.index, monthly_data['Content ID'])\n",
    "plt.xlabel('Month')\n",
    "plt.ylabel('Count')\n",
    "plt.title('Social Buzz over Time (Monthly)')\n",
    "\n",
    "# Format x-axis ticks to show month labels\n",
    "plt.gca().xaxis.set_major_locator(mdates.MonthLocator())\n",
    "plt.gca().xaxis.set_major_formatter(mdates.DateFormatter('%b %Y'))\n",
    "\n",
    "plt.xticks(rotation=45)  # Rotate x-axis labels for better readability\n",
    "plt.show()"
   ]
  },
  {
   "cell_type": "markdown",
   "id": "b214b936",
   "metadata": {},
   "source": [
    "#### Insights of Temporal Analysis:(Weekly and Monthly bases)\n",
    "The highest count of social buzz occurred in the month of June 2021. \n",
    "\n",
    "The lowest count of social buzz occurred in the month of March 2021.\n",
    "\n",
    "On a monthly basis, the count of social buzz ranged between 1600 to 2000.\n",
    "\n",
    "On a weekly basis, the count of social buzz varied between 430 to 500."
   ]
  },
  {
   "cell_type": "markdown",
   "id": "0a3a0c77",
   "metadata": {},
   "source": [
    "### 10. Sentiment Analysis:"
   ]
  },
  {
   "cell_type": "code",
   "execution_count": 56,
   "id": "1c7ed139",
   "metadata": {
    "ExecuteTime": {
     "end_time": "2023-10-30T13:56:11.939968Z",
     "start_time": "2023-10-30T13:56:11.933474Z"
    }
   },
   "outputs": [
    {
     "data": {
      "text/plain": [
       "Category\n",
       "Animals            74965\n",
       "Science            71168\n",
       "Healthy eating     69339\n",
       "Technology         68738\n",
       "Food               66676\n",
       "Culture            66579\n",
       "Travel             64880\n",
       "Cooking            64756\n",
       "Soccer             57783\n",
       "Education          57436\n",
       "Fitness            55323\n",
       "Studying           54269\n",
       "Dogs               52511\n",
       "Tennis             50339\n",
       "Veganism           49619\n",
       "Public speaking    49264\n",
       "Name: Score, dtype: int64"
      ]
     },
     "execution_count": 56,
     "metadata": {},
     "output_type": "execute_result"
    }
   ],
   "source": [
    "sentiment_by_category = df.groupby('Category')['Score'].sum()\n",
    "sentiment_by_category = sentiment_by_category.sort_values(ascending=False)\n",
    "sentiment_by_category"
   ]
  },
  {
   "cell_type": "code",
   "execution_count": 57,
   "id": "3a62c504",
   "metadata": {
    "ExecuteTime": {
     "end_time": "2023-10-30T13:56:11.950190Z",
     "start_time": "2023-10-30T13:56:11.943190Z"
    }
   },
   "outputs": [
    {
     "data": {
      "text/plain": [
       "Content Type\n",
       "photo    262838\n",
       "video    246463\n",
       "GIF      238217\n",
       "audio    226127\n",
       "Name: Score, dtype: int64"
      ]
     },
     "execution_count": 57,
     "metadata": {},
     "output_type": "execute_result"
    }
   ],
   "source": [
    "sentiment_by_content_type = df.groupby('Content Type')['Score'].sum()\n",
    "sentiment_by_content_type = sentiment_by_content_type.sort_values(ascending=False)\n",
    "sentiment_by_content_type"
   ]
  },
  {
   "cell_type": "code",
   "execution_count": 58,
   "id": "5c0cfbe5",
   "metadata": {
    "ExecuteTime": {
     "end_time": "2023-10-30T13:56:12.068333Z",
     "start_time": "2023-10-30T13:56:11.952116Z"
    }
   },
   "outputs": [
    {
     "data": {
      "image/png": "[encoded data removed]",
      "text/plain": [
       "<Figure size 640x480 with 1 Axes>"
      ]
     },
     "metadata": {},
     "output_type": "display_data"
    }
   ],
   "source": [
    "# Analyzing Sentiment:\n",
    "sentiment_counts = df['Sentiment'].value_counts()\n",
    "plt.bar(sentiment_counts.index, sentiment_counts.values)\n",
    "plt.xlabel('Sentiment')\n",
    "plt.ylabel('Count')\n",
    "plt.title('Distribution of Sentiment')\n",
    "plt.show()"
   ]
  },
  {
   "cell_type": "markdown",
   "id": "33440d4c",
   "metadata": {},
   "source": [
    "#### Insights of Sentimental Analysis:\n",
    "The category \"Animals\" has the highest sum score, indicating a positive sentiment, while \"Public speaking\" has the lowest mean score, indicating a relatively lower sentiment.\n",
    "\n",
    "The top 5 categories with the highest scores are \"Animals,\" \"Science\", \"Healthy eating\", \"Technology\", \"Food\".\n",
    "\n",
    "The 5 categories with the lowest scores are \"Studying\", \"Dogs\", \"Tennis\", \"Veganism\", \"Public speaking\".\n",
    "Overall, the sentiment tends to be positive in different categories.\n",
    "\n",
    "Among different content types, GIF has the lowest mean score, while photo, video and audio have slightly higher scores."
   ]
  },
  {
   "cell_type": "markdown",
   "id": "1c193cf6",
   "metadata": {
    "ExecuteTime": {
     "end_time": "2023-10-30T13:01:56.225416Z",
     "start_time": "2023-10-30T13:01:56.222175Z"
    }
   },
   "source": [
    "### 11. Visualization of the Top 5 Categories"
   ]
  },
  {
   "cell_type": "code",
   "execution_count": 59,
   "id": "ca9c505e",
   "metadata": {
    "ExecuteTime": {
     "end_time": "2023-10-30T13:56:12.213751Z",
     "start_time": "2023-10-30T13:56:12.070216Z"
    },
    "scrolled": false
   },
   "outputs": [
    {
     "data": {
      "image/png": "[encoded data removed]",
      "text/plain": [
       "<Figure size 640x480 with 1 Axes>"
      ]
     },
     "metadata": {},
     "output_type": "display_data"
    }
   ],
   "source": [
    "# Plotting a bar graph of the top performing categories\n",
    "plt.bar(top_categories.index, top_categories.values)\n",
    "\n",
    "# Adding labels and title to the graph\n",
    "plt.xlabel('Category')\n",
    "plt.ylabel('Summed Score')\n",
    "plt.title('Top 5 Performing Categories')\n",
    "\n",
    "# Rotating the x-axis labels for better readability (optional)\n",
    "plt.xticks(rotation=45)\n",
    "\n",
    "# Adding value labels to the bars\n",
    "for i, v in enumerate(top_categories.values):\n",
    "    plt.text(i, v, str(v), ha='center', va='bottom')\n",
    "\n",
    "# Displaying the graph\n",
    "plt.show()"
   ]
  },
  {
   "cell_type": "markdown",
   "id": "741cc1f3",
   "metadata": {},
   "source": [
    "### 12. Exporting dataframes"
   ]
  },
  {
   "cell_type": "code",
   "execution_count": 60,
   "id": "565712f4",
   "metadata": {
    "ExecuteTime": {
     "end_time": "2023-10-30T13:56:12.310724Z",
     "start_time": "2023-10-30T13:56:12.216103Z"
    }
   },
   "outputs": [],
   "source": [
    "# Saving the DataFrame to a file (e.g., CSV)\n",
    "df.to_csv(os.path.join(path, '02 Data', 'Prepared Data', 'final_dataframe.csv'))"
   ]
  },
  {
   "cell_type": "markdown",
   "id": "9534f79d",
   "metadata": {},
   "source": [
    "### 13. Conclusions\n",
    "\n",
    "The dataset was prepared by merging relevant columns from the Reaction, Content, and Reaction Types datasets using pandas merge operation.\n",
    "\n",
    "The dataset contains a comprehensive collection of social media data with 24,573 unique values spanning from June 18, 2020, to June 18, 2021.\n",
    "\n",
    "The top 5 performing categories based on the summed scores were identified using pandas' nlargest function.\n",
    "\n",
    "The content analysis reveals that photos are the most prevalent type of content, accounting for 26.8% of the total, while audio content is relatively less common, representing 23.0% of the total. The content types in ascending order of prevalence are audio, Gif, video, and photo.\n",
    "\n",
    "In terms of reaction types, the \"Heart\" reaction is the most commonly used by people, followed by \"Scared\" and \"Peeking.\" On the other hand, reactions such as \"Cherish,\" \"Worried,\" and \"Intrigued\" are less frequently used.\n",
    "\n",
    "The temporal analysis shows that the highest count of social buzz occurred in June 2021, while the lowest count was observed in March 2021. Monthly counts ranged between 1600 and 2000, indicating a relatively consistent level of social media activity. Weekly counts varied between 430 and 500, suggesting regular engagement throughout the analyzed period.\n",
    "\n",
    "The category \"Animals\" has the highest score, indicating a positive sentiment, while \"Public speaking\" has the lowest score. The top 5 categories with the highest mean scores are \"Animals,\" \"Science\", \"Healthy eating\", \"Technology\", \"Food\",  while the lowest scores are observed in \"Studying\", \"Dogs\", \"Tennis\", \"Veganism\", \"Public speaking\".\n",
    "\n",
    "### 14. Recommendations\n",
    "\n",
    "Was recommend that the client focus on using visually appealing content, especially photographs, to attract the target audience. Additionally, they can explore topics related to animals, science, healthy eating, technology, food which have demonstrated positive sentiments and high grade. By understanding the dynamics of interaction and sentiment on social media, a client can optimize their content strategy and tailor it to suit the preferences of their audience\n"
   ]
  }
 ],
 "metadata": {
  "kernelspec": {
   "display_name": "Python 3 (ipykernel)",
   "language": "python",
   "name": "python3"
  },
  "language_info": {
   "codemirror_mode": {
    "name": "ipython",
    "version": 3
   },
   "file_extension": ".py",
   "mimetype": "text/x-python",
   "name": "python",
   "nbconvert_exporter": "python",
   "pygments_lexer": "ipython3",
   "version": "3.9.15"
  }
 },
 "nbformat": 4,
 "nbformat_minor": 5
}
