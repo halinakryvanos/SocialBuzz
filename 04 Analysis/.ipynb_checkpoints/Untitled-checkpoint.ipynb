{
 "cells": [
  {
   "cell_type": "code",
   "execution_count": 1,
   "id": "fc0313bc",
   "metadata": {
    "ExecuteTime": {
     "end_time": "2023-10-29T19:18:10.706332Z",
     "start_time": "2023-10-29T19:18:07.246928Z"
    }
   },
   "outputs": [],
   "source": [
    "import quandl\n",
    "import pandas as pd\n",
    "import numpy as np\n",
    "import seaborn as sns\n",
    "import matplotlib\n",
    "import matplotlib.pyplot as plt\n",
    "import statsmodels.api as sm # Using .api imports the public access version of statsmodels, which is a library that handles \n",
    "# statistical models.\n",
    "import os\n",
    "import warnings # This is a library that handles warnings.\n",
    "\n",
    "warnings.filterwarnings(\"ignore\") # Disable deprecation warnings that could indicate, for instance, a suspended library or \n",
    "# feature. These are more relevant to developers and very seldom to analysts.\n",
    "\n",
    "plt.style.use('fivethirtyeight') # This is a styling option for how your plots will appear. More examples here:\n",
    "# https://matplotlib.org/3.2.1/tutorials/introductory/customizing.html\n",
    "# https://matplotlib.org/3.1.0/gallery/style_sheets/fivethirtyeight.html"
   ]
  },
  {
   "cell_type": "code",
   "execution_count": 2,
   "id": "62d8c60e",
   "metadata": {
    "ExecuteTime": {
     "end_time": "2023-10-29T19:18:10.716964Z",
     "start_time": "2023-10-29T19:18:10.711850Z"
    }
   },
   "outputs": [],
   "source": [
    "# Define path\n",
    "\n",
    "path = '/Users/macbook/Library/CloudStorage/OneDrive-Personal/Data Analisys/Social Buzz'"
   ]
  },
  {
   "cell_type": "code",
   "execution_count": 3,
   "id": "87199eb1",
   "metadata": {
    "ExecuteTime": {
     "end_time": "2023-10-29T19:18:10.766637Z",
     "start_time": "2023-10-29T19:18:10.719353Z"
    },
    "scrolled": true
   },
   "outputs": [],
   "source": [
    "df = pd.read_csv(os.path.join(path,'02 Data', 'Prepared Data', 'ModeledDataSet3.1.csv'))"
   ]
  },
  {
   "cell_type": "code",
   "execution_count": 4,
   "id": "ac952555",
   "metadata": {
    "ExecuteTime": {
     "end_time": "2023-10-29T19:18:10.779547Z",
     "start_time": "2023-10-29T19:18:10.768849Z"
    }
   },
   "outputs": [
    {
     "data": {
      "text/html": [
       "<div>\n",
       "<style scoped>\n",
       "    .dataframe tbody tr th:only-of-type {\n",
       "        vertical-align: middle;\n",
       "    }\n",
       "\n",
       "    .dataframe tbody tr th {\n",
       "        vertical-align: top;\n",
       "    }\n",
       "\n",
       "    .dataframe thead th {\n",
       "        text-align: right;\n",
       "    }\n",
       "</style>\n",
       "<table border=\"1\" class=\"dataframe\">\n",
       "  <thead>\n",
       "    <tr style=\"text-align: right;\">\n",
       "      <th></th>\n",
       "      <th>F1;Content ID;User ID;Reaction Type;Datetime;Content Type;Category;Sentiment;Score</th>\n",
       "    </tr>\n",
       "  </thead>\n",
       "  <tbody>\n",
       "    <tr>\n",
       "      <th>0</th>\n",
       "      <td>1;97522e57-d9ab-4bd6-97bf-c24d952602d2;5d45458...</td>\n",
       "    </tr>\n",
       "    <tr>\n",
       "      <th>1</th>\n",
       "      <td>2;97522e57-d9ab-4bd6-97bf-c24d952602d2;92b87fa...</td>\n",
       "    </tr>\n",
       "    <tr>\n",
       "      <th>2</th>\n",
       "      <td>3;97522e57-d9ab-4bd6-97bf-c24d952602d2;163daa3...</td>\n",
       "    </tr>\n",
       "    <tr>\n",
       "      <th>3</th>\n",
       "      <td>4;97522e57-d9ab-4bd6-97bf-c24d952602d2;34e8add...</td>\n",
       "    </tr>\n",
       "    <tr>\n",
       "      <th>4</th>\n",
       "      <td>5;97522e57-d9ab-4bd6-97bf-c24d952602d2;9b6d35f...</td>\n",
       "    </tr>\n",
       "  </tbody>\n",
       "</table>\n",
       "</div>"
      ],
      "text/plain": [
       "  F1;Content ID;User ID;Reaction Type;Datetime;Content Type;Category;Sentiment;Score\n",
       "0  1;97522e57-d9ab-4bd6-97bf-c24d952602d2;5d45458...                                \n",
       "1  2;97522e57-d9ab-4bd6-97bf-c24d952602d2;92b87fa...                                \n",
       "2  3;97522e57-d9ab-4bd6-97bf-c24d952602d2;163daa3...                                \n",
       "3  4;97522e57-d9ab-4bd6-97bf-c24d952602d2;34e8add...                                \n",
       "4  5;97522e57-d9ab-4bd6-97bf-c24d952602d2;9b6d35f...                                "
      ]
     },
     "execution_count": 4,
     "metadata": {},
     "output_type": "execute_result"
    }
   ],
   "source": [
    "df.head()"
   ]
  },
  {
   "cell_type": "code",
   "execution_count": 5,
   "id": "d0250114",
   "metadata": {
    "ExecuteTime": {
     "end_time": "2023-10-29T19:18:10.788413Z",
     "start_time": "2023-10-29T19:18:10.784752Z"
    }
   },
   "outputs": [
    {
     "data": {
      "text/plain": [
       "(24573, 1)"
      ]
     },
     "execution_count": 5,
     "metadata": {},
     "output_type": "execute_result"
    }
   ],
   "source": [
    "df.shape"
   ]
  },
  {
   "cell_type": "code",
   "execution_count": 6,
   "id": "b7e7fec3",
   "metadata": {
    "ExecuteTime": {
     "end_time": "2023-10-29T19:18:10.796660Z",
     "start_time": "2023-10-29T19:18:10.791150Z"
    }
   },
   "outputs": [
    {
     "data": {
      "text/plain": [
       "Index(['F1;Content ID;User ID;Reaction Type;Datetime;Content Type;Category;Sentiment;Score'], dtype='object')"
      ]
     },
     "execution_count": 6,
     "metadata": {},
     "output_type": "execute_result"
    }
   ],
   "source": [
    "df.columns"
   ]
  },
  {
   "cell_type": "code",
   "execution_count": 7,
   "id": "ca15965a",
   "metadata": {
    "ExecuteTime": {
     "end_time": "2023-10-29T19:18:10.804595Z",
     "start_time": "2023-10-29T19:18:10.799684Z"
    }
   },
   "outputs": [
    {
     "data": {
      "text/plain": [
       "F1;Content ID;User ID;Reaction Type;Datetime;Content Type;Category;Sentiment;Score    object\n",
       "dtype: object"
      ]
     },
     "execution_count": 7,
     "metadata": {},
     "output_type": "execute_result"
    }
   ],
   "source": [
    "df.dtypes"
   ]
  },
  {
   "cell_type": "code",
   "execution_count": 8,
   "id": "c8e94907",
   "metadata": {
    "ExecuteTime": {
     "end_time": "2023-10-29T19:18:10.822793Z",
     "start_time": "2023-10-29T19:18:10.808663Z"
    }
   },
   "outputs": [
    {
     "name": "stdout",
     "output_type": "stream",
     "text": [
      "<class 'pandas.core.frame.DataFrame'>\n",
      "RangeIndex: 24573 entries, 0 to 24572\n",
      "Data columns (total 1 columns):\n",
      " #   Column                                                                              Non-Null Count  Dtype \n",
      "---  ------                                                                              --------------  ----- \n",
      " 0   F1;Content ID;User ID;Reaction Type;Datetime;Content Type;Category;Sentiment;Score  24573 non-null  object\n",
      "dtypes: object(1)\n",
      "memory usage: 192.1+ KB\n"
     ]
    }
   ],
   "source": [
    "df.info()"
   ]
  },
  {
   "cell_type": "code",
   "execution_count": 9,
   "id": "584a8fd2",
   "metadata": {
    "ExecuteTime": {
     "end_time": "2023-10-29T19:18:10.961242Z",
     "start_time": "2023-10-29T19:18:10.826614Z"
    }
   },
   "outputs": [],
   "source": [
    "# Split the single column into multiple columns based on semicolon delimiter\n",
    "new_columns = df['F1;Content ID;User ID;Reaction Type;Datetime;Content Type;Category;Sentiment;Score'].str.split(';', expand=True)"
   ]
  },
  {
   "cell_type": "code",
   "execution_count": 10,
   "id": "50a081e7",
   "metadata": {
    "ExecuteTime": {
     "end_time": "2023-10-29T19:18:10.967877Z",
     "start_time": "2023-10-29T19:18:10.963746Z"
    }
   },
   "outputs": [],
   "source": [
    "# Rename the new columns\n",
    "new_columns.columns = ['F1', 'Content ID', 'User ID', 'Reaction Type', 'Datetime', 'Content Type', 'Category', 'Sentiment', 'Score']"
   ]
  },
  {
   "cell_type": "code",
   "execution_count": 11,
   "id": "f1dc713a",
   "metadata": {
    "ExecuteTime": {
     "end_time": "2023-10-29T19:18:10.976235Z",
     "start_time": "2023-10-29T19:18:10.969817Z"
    }
   },
   "outputs": [],
   "source": [
    "# Replace the original column with the new columns\n",
    "df = pd.concat([df, new_columns], axis=1)"
   ]
  },
  {
   "cell_type": "code",
   "execution_count": 12,
   "id": "209af551",
   "metadata": {
    "ExecuteTime": {
     "end_time": "2023-10-29T19:18:10.988514Z",
     "start_time": "2023-10-29T19:18:10.978494Z"
    }
   },
   "outputs": [],
   "source": [
    "# Drop the original column if you don't need it anymore\n",
    "df = df.drop('F1;Content ID;User ID;Reaction Type;Datetime;Content Type;Category;Sentiment;Score', axis=1)\n"
   ]
  },
  {
   "cell_type": "code",
   "execution_count": 13,
   "id": "176fee40",
   "metadata": {
    "ExecuteTime": {
     "end_time": "2023-10-29T19:18:11.031476Z",
     "start_time": "2023-10-29T19:18:10.990636Z"
    }
   },
   "outputs": [
    {
     "name": "stdout",
     "output_type": "stream",
     "text": [
      "<class 'pandas.core.frame.DataFrame'>\n",
      "RangeIndex: 24573 entries, 0 to 24572\n",
      "Data columns (total 9 columns):\n",
      " #   Column         Non-Null Count  Dtype \n",
      "---  ------         --------------  ----- \n",
      " 0   F1             24573 non-null  object\n",
      " 1   Content ID     24573 non-null  object\n",
      " 2   User ID        24573 non-null  object\n",
      " 3   Reaction Type  24573 non-null  object\n",
      " 4   Datetime       24573 non-null  object\n",
      " 5   Content Type   24573 non-null  object\n",
      " 6   Category       24573 non-null  object\n",
      " 7   Sentiment      24573 non-null  object\n",
      " 8   Score          24573 non-null  object\n",
      "dtypes: object(9)\n",
      "memory usage: 1.7+ MB\n"
     ]
    }
   ],
   "source": [
    "df.info()"
   ]
  },
  {
   "cell_type": "code",
   "execution_count": 14,
   "id": "862589a3",
   "metadata": {
    "ExecuteTime": {
     "end_time": "2023-10-29T19:19:36.123081Z",
     "start_time": "2023-10-29T19:19:36.114708Z"
    }
   },
   "outputs": [],
   "source": [
    "# Set \"F1\" column as the index\n",
    "df = df.set_index(\"F1\")"
   ]
  },
  {
   "cell_type": "code",
   "execution_count": 15,
   "id": "00d72aa7",
   "metadata": {
    "ExecuteTime": {
     "end_time": "2023-10-29T20:39:26.694936Z",
     "start_time": "2023-10-29T20:39:26.671667Z"
    }
   },
   "outputs": [
    {
     "data": {
      "text/plain": [
       "Content ID       object\n",
       "User ID          object\n",
       "Reaction Type    object\n",
       "Datetime         object\n",
       "Content Type     object\n",
       "Category         object\n",
       "Sentiment        object\n",
       "Score            object\n",
       "dtype: object"
      ]
     },
     "execution_count": 15,
     "metadata": {},
     "output_type": "execute_result"
    }
   ],
   "source": [
    "df.dtypes"
   ]
  },
  {
   "cell_type": "code",
   "execution_count": 16,
   "id": "cb10cd8f",
   "metadata": {
    "ExecuteTime": {
     "end_time": "2023-10-29T20:40:30.549425Z",
     "start_time": "2023-10-29T20:40:30.524733Z"
    }
   },
   "outputs": [
    {
     "data": {
      "text/html": [
       "<div>\n",
       "<style scoped>\n",
       "    .dataframe tbody tr th:only-of-type {\n",
       "        vertical-align: middle;\n",
       "    }\n",
       "\n",
       "    .dataframe tbody tr th {\n",
       "        vertical-align: top;\n",
       "    }\n",
       "\n",
       "    .dataframe thead th {\n",
       "        text-align: right;\n",
       "    }\n",
       "</style>\n",
       "<table border=\"1\" class=\"dataframe\">\n",
       "  <thead>\n",
       "    <tr style=\"text-align: right;\">\n",
       "      <th></th>\n",
       "      <th>Content ID</th>\n",
       "      <th>User ID</th>\n",
       "      <th>Reaction Type</th>\n",
       "      <th>Datetime</th>\n",
       "      <th>Content Type</th>\n",
       "      <th>Category</th>\n",
       "      <th>Sentiment</th>\n",
       "      <th>Score</th>\n",
       "    </tr>\n",
       "    <tr>\n",
       "      <th>F1</th>\n",
       "      <th></th>\n",
       "      <th></th>\n",
       "      <th></th>\n",
       "      <th></th>\n",
       "      <th></th>\n",
       "      <th></th>\n",
       "      <th></th>\n",
       "      <th></th>\n",
       "    </tr>\n",
       "  </thead>\n",
       "  <tbody>\n",
       "    <tr>\n",
       "      <th>1</th>\n",
       "      <td>97522e57-d9ab-4bd6-97bf-c24d952602d2</td>\n",
       "      <td>5d454588-283d-459d-915d-c48a2cb4c27f</td>\n",
       "      <td>disgust</td>\n",
       "      <td>7.11.20 09:43</td>\n",
       "      <td>photo</td>\n",
       "      <td>studying</td>\n",
       "      <td>negative</td>\n",
       "      <td>0</td>\n",
       "    </tr>\n",
       "    <tr>\n",
       "      <th>2</th>\n",
       "      <td>97522e57-d9ab-4bd6-97bf-c24d952602d2</td>\n",
       "      <td>92b87fa5-f271-43e0-af66-84fac21052e6</td>\n",
       "      <td>dislike</td>\n",
       "      <td>17.06.21 12:22</td>\n",
       "      <td>photo</td>\n",
       "      <td>studying</td>\n",
       "      <td>negative</td>\n",
       "      <td>10</td>\n",
       "    </tr>\n",
       "    <tr>\n",
       "      <th>3</th>\n",
       "      <td>97522e57-d9ab-4bd6-97bf-c24d952602d2</td>\n",
       "      <td>163daa38-8b77-48c9-9af6-37a6c1447ac2</td>\n",
       "      <td>scared</td>\n",
       "      <td>18.04.21 05:13</td>\n",
       "      <td>photo</td>\n",
       "      <td>studying</td>\n",
       "      <td>negative</td>\n",
       "      <td>15</td>\n",
       "    </tr>\n",
       "    <tr>\n",
       "      <th>4</th>\n",
       "      <td>97522e57-d9ab-4bd6-97bf-c24d952602d2</td>\n",
       "      <td>34e8add9-0206-47fd-a501-037b994650a2</td>\n",
       "      <td>disgust</td>\n",
       "      <td>6.01.21 19:13</td>\n",
       "      <td>photo</td>\n",
       "      <td>studying</td>\n",
       "      <td>negative</td>\n",
       "      <td>0</td>\n",
       "    </tr>\n",
       "    <tr>\n",
       "      <th>5</th>\n",
       "      <td>97522e57-d9ab-4bd6-97bf-c24d952602d2</td>\n",
       "      <td>9b6d35f9-5e15-4cd0-a8d7-b1f3340e02c4</td>\n",
       "      <td>interested</td>\n",
       "      <td>23.08.20 12:25</td>\n",
       "      <td>photo</td>\n",
       "      <td>studying</td>\n",
       "      <td>positive</td>\n",
       "      <td>30</td>\n",
       "    </tr>\n",
       "  </tbody>\n",
       "</table>\n",
       "</div>"
      ],
      "text/plain": [
       "                              Content ID  \\\n",
       "F1                                         \n",
       "1   97522e57-d9ab-4bd6-97bf-c24d952602d2   \n",
       "2   97522e57-d9ab-4bd6-97bf-c24d952602d2   \n",
       "3   97522e57-d9ab-4bd6-97bf-c24d952602d2   \n",
       "4   97522e57-d9ab-4bd6-97bf-c24d952602d2   \n",
       "5   97522e57-d9ab-4bd6-97bf-c24d952602d2   \n",
       "\n",
       "                                 User ID Reaction Type        Datetime  \\\n",
       "F1                                                                       \n",
       "1   5d454588-283d-459d-915d-c48a2cb4c27f       disgust   7.11.20 09:43   \n",
       "2   92b87fa5-f271-43e0-af66-84fac21052e6       dislike  17.06.21 12:22   \n",
       "3   163daa38-8b77-48c9-9af6-37a6c1447ac2        scared  18.04.21 05:13   \n",
       "4   34e8add9-0206-47fd-a501-037b994650a2       disgust   6.01.21 19:13   \n",
       "5   9b6d35f9-5e15-4cd0-a8d7-b1f3340e02c4    interested  23.08.20 12:25   \n",
       "\n",
       "   Content Type  Category Sentiment Score  \n",
       "F1                                         \n",
       "1         photo  studying  negative     0  \n",
       "2         photo  studying  negative    10  \n",
       "3         photo  studying  negative    15  \n",
       "4         photo  studying  negative     0  \n",
       "5         photo  studying  positive    30  "
      ]
     },
     "execution_count": 16,
     "metadata": {},
     "output_type": "execute_result"
    }
   ],
   "source": [
    "df.head()"
   ]
  },
  {
   "cell_type": "code",
   "execution_count": 17,
   "id": "feda0094",
   "metadata": {
    "ExecuteTime": {
     "end_time": "2023-10-29T20:41:49.128666Z",
     "start_time": "2023-10-29T20:41:49.076279Z"
    }
   },
   "outputs": [
    {
     "data": {
      "text/plain": [
       "Content ID       0\n",
       "User ID          0\n",
       "Reaction Type    0\n",
       "Datetime         0\n",
       "Content Type     0\n",
       "Category         0\n",
       "Sentiment        0\n",
       "Score            0\n",
       "dtype: int64"
      ]
     },
     "execution_count": 17,
     "metadata": {},
     "output_type": "execute_result"
    }
   ],
   "source": [
    "# Check for missing values\n",
    "\n",
    "df.isnull().sum() # No missing values!"
   ]
  },
  {
   "cell_type": "code",
   "execution_count": 18,
   "id": "1529d519",
   "metadata": {
    "ExecuteTime": {
     "end_time": "2023-10-29T20:42:09.295399Z",
     "start_time": "2023-10-29T20:42:09.227826Z"
    }
   },
   "outputs": [],
   "source": [
    "# Find duplicates\n",
    "\n",
    "df_dups = df[df.duplicated()]"
   ]
  },
  {
   "cell_type": "code",
   "execution_count": 19,
   "id": "df8d2b2c",
   "metadata": {
    "ExecuteTime": {
     "end_time": "2023-10-29T20:42:41.980292Z",
     "start_time": "2023-10-29T20:42:41.974448Z"
    }
   },
   "outputs": [
    {
     "data": {
      "text/plain": [
       "(0, 8)"
      ]
     },
     "execution_count": 19,
     "metadata": {},
     "output_type": "execute_result"
    }
   ],
   "source": [
    "df_dups.shape # No duplicates!"
   ]
  },
  {
   "cell_type": "code",
   "execution_count": 20,
   "id": "d06a74a9",
   "metadata": {
    "ExecuteTime": {
     "end_time": "2023-10-29T20:43:04.121650Z",
     "start_time": "2023-10-29T20:43:04.027858Z"
    }
   },
   "outputs": [],
   "source": [
    "for col in df.columns.tolist():\n",
    "      weird = (df[[col]].applymap(type) != df[[col]].iloc[0].apply(type)).any(axis = 1)\n",
    "      if len (df[weird]) > 0:\n",
    "        print (col)"
   ]
  },
  {
   "cell_type": "code",
   "execution_count": 24,
   "id": "2643e856",
   "metadata": {
    "ExecuteTime": {
     "end_time": "2023-10-29T20:54:35.256495Z",
     "start_time": "2023-10-29T20:54:35.220327Z"
    }
   },
   "outputs": [],
   "source": [
    "# Convert specific columns to numeric if they contain numeric data\n",
    "columns_to_convert = ['Score']\n",
    "df[columns_to_convert] = df[columns_to_convert].apply(pd.to_numeric, errors='coerce')"
   ]
  },
  {
   "cell_type": "code",
   "execution_count": 25,
   "id": "843318f8",
   "metadata": {
    "ExecuteTime": {
     "end_time": "2023-10-29T20:54:50.231207Z",
     "start_time": "2023-10-29T20:54:50.223515Z"
    }
   },
   "outputs": [
    {
     "data": {
      "text/plain": [
       "Content ID       object\n",
       "User ID          object\n",
       "Reaction Type    object\n",
       "Datetime         object\n",
       "Content Type     object\n",
       "Category         object\n",
       "Sentiment        object\n",
       "Score             int64\n",
       "dtype: object"
      ]
     },
     "execution_count": 25,
     "metadata": {},
     "output_type": "execute_result"
    }
   ],
   "source": [
    "df.dtypes"
   ]
  },
  {
   "cell_type": "code",
   "execution_count": 27,
   "id": "df987521",
   "metadata": {
    "ExecuteTime": {
     "end_time": "2023-10-29T21:01:26.133078Z",
     "start_time": "2023-10-29T21:01:24.349720Z"
    }
   },
   "outputs": [],
   "source": [
    "# Convert the Datetime column to timestamps\n",
    "df['Datetime'] = pd.to_datetime(df['Datetime'])\n"
   ]
  },
  {
   "cell_type": "code",
   "execution_count": 28,
   "id": "4655faa6",
   "metadata": {
    "ExecuteTime": {
     "end_time": "2023-10-29T21:01:39.350856Z",
     "start_time": "2023-10-29T21:01:39.347526Z"
    }
   },
   "outputs": [],
   "source": [
    "# Convert timestamps to float64\n",
    "df['Datetime'] = df['Datetime'].values.astype(float)"
   ]
  },
  {
   "cell_type": "code",
   "execution_count": 29,
   "id": "6379903a",
   "metadata": {
    "ExecuteTime": {
     "end_time": "2023-10-29T21:01:50.595750Z",
     "start_time": "2023-10-29T21:01:50.590420Z"
    }
   },
   "outputs": [
    {
     "name": "stdout",
     "output_type": "stream",
     "text": [
      "Content ID        object\n",
      "User ID           object\n",
      "Reaction Type     object\n",
      "Datetime         float64\n",
      "Content Type      object\n",
      "Category          object\n",
      "Sentiment         object\n",
      "Score              int64\n",
      "dtype: object\n"
     ]
    }
   ],
   "source": [
    "# Verify the data type of the Datetime column\n",
    "print(df.dtypes)"
   ]
  },
  {
   "cell_type": "code",
   "execution_count": null,
   "id": "7f7389d1",
   "metadata": {},
   "outputs": [],
   "source": []
  },
  {
   "cell_type": "code",
   "execution_count": null,
   "id": "6c510c04",
   "metadata": {},
   "outputs": [],
   "source": []
  }
 ],
 "metadata": {
  "kernelspec": {
   "display_name": "Python 3 (ipykernel)",
   "language": "python",
   "name": "python3"
  },
  "language_info": {
   "codemirror_mode": {
    "name": "ipython",
    "version": 3
   },
   "file_extension": ".py",
   "mimetype": "text/x-python",
   "name": "python",
   "nbconvert_exporter": "python",
   "pygments_lexer": "ipython3",
   "version": "3.9.15"
  }
 },
 "nbformat": 4,
 "nbformat_minor": 5
}
